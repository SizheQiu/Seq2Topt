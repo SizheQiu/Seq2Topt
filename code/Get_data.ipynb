{
 "cells": [
  {
   "cell_type": "code",
   "execution_count": 2,
   "id": "393f8cd6",
   "metadata": {},
   "outputs": [],
   "source": [
    "import requests\n",
    "import numpy as np\n",
    "import pandas as pd\n",
    "from matplotlib import pyplot as plt\n",
    "import seaborn as sns\n",
    "from urllib import request\n",
    "from brendapyrser import BRENDA\n",
    "import html\n",
    "import pickle\n",
    "from math import exp\n",
    "import random\n",
    "import re\n",
    "from functions import *"
   ]
  },
  {
   "cell_type": "code",
   "execution_count": 2,
   "id": "75676597",
   "metadata": {},
   "outputs": [],
   "source": [
    "brenda = BRENDA('../../local_data/brenda.txt')"
   ]
  },
  {
   "cell_type": "code",
   "execution_count": 3,
   "id": "0f5f6b1f",
   "metadata": {},
   "outputs": [
    {
     "name": "stdout",
     "output_type": "stream",
     "text": [
      "7609\n"
     ]
    }
   ],
   "source": [
    "ec_list = []\n",
    "for rxn in brenda.reactions:\n",
    "    ec_list.append( rxn.ec_number )\n",
    "ec_list = list(set(ec_list))\n",
    "print(len(ec_list))"
   ]
  },
  {
   "cell_type": "markdown",
   "id": "bcf45321",
   "metadata": {},
   "source": [
    "# Get optimal temperature for enzymes in brenda"
   ]
  },
  {
   "cell_type": "code",
   "execution_count": 9,
   "id": "e15ca63f",
   "metadata": {},
   "outputs": [],
   "source": [
    "def get_entry_ot( ec ):\n",
    "    r = brenda.reactions.get_by_id(ec)\n",
    "    all_data = r.temperature['optimum']\n",
    "    result = []\n",
    "    for i in range(len(all_data)):\n",
    "        OT = all_data[i]['value']\n",
    "        if '#' not in all_data[i]['meta']:\n",
    "            continue\n",
    "        p_refs = []\n",
    "        if ';' in all_data[i]['meta']:\n",
    "            meta_list = all_data[i]['meta'].split(';')\n",
    "            for meta in meta_list:\n",
    "                p_refs += list( meta.split('#')[1].split(',') )\n",
    "                \n",
    "        else:\n",
    "            meta = all_data[i]['meta']\n",
    "            p_refs += list( meta.split('#')[1].split(',') )\n",
    "            \n",
    "        for ref in p_refs:\n",
    "            if (ref in r.proteins) and (r.proteins[ref]['proteinID'] != ''):\n",
    "                p_id = r.proteins[ref]['proteinID']\n",
    "                p_id = p_id.replace('UniProt','').replace('SwissProt','').\\\n",
    "                replace('Swissprot','').replace('Uniprot','').replace('TrEMBL','').replace('GenBank','').strip()\n",
    "                if ' and ' in p_id:\n",
    "                    p_ids = p_id.split(' and ')\n",
    "                    for p_id in p_ids:\n",
    "                        result.append( {'EC':ec,'Species':r.proteins[ref]['name'],'UniProtID': p_id.strip(),'OT':float(OT)} )        \n",
    "                elif ' ' in p_id:\n",
    "                    p_id = max( p_id.split(' '), key=len )\n",
    "                    result.append( {'EC':ec,'Species':r.proteins[ref]['name'],'UniProtID': p_id.strip(),'OT':float(OT)} )\n",
    "                else:\n",
    "                    result.append( {'EC':ec,'Species':r.proteins[ref]['name'],'UniProtID': p_id.strip(),'OT':float(OT)} )    \n",
    "    return result"
   ]
  },
  {
   "cell_type": "code",
   "execution_count": 29,
   "id": "a757fed1",
   "metadata": {},
   "outputs": [],
   "source": [
    "# data = []\n",
    "# idx = 0\n",
    "# for ec in ec_list:\n",
    "#     if idx % 500 == 0:\n",
    "#         print(str(idx) + ' done')\n",
    "#     data += get_entry_ot( ec )\n",
    "#     idx+=1"
   ]
  },
  {
   "cell_type": "code",
   "execution_count": 11,
   "id": "9811fca5",
   "metadata": {},
   "outputs": [],
   "source": [
    "raw_ot = pd.DataFrame(data).dropna().drop_duplicates(subset=['UniProtID','OT']).reset_index().drop(['index'],axis=1)\n",
    "raw_ot = raw_ot[raw_ot['OT']>=0].reset_index().drop(['index'],axis=1)\n",
    "# raw_ot.to_csv('../data/raw_ot.csv',index=None)"
   ]
  },
  {
   "cell_type": "markdown",
   "id": "4b2148ad",
   "metadata": {},
   "source": [
    "# Get optimal pH for enzymes in brenda"
   ]
  },
  {
   "cell_type": "code",
   "execution_count": 19,
   "id": "c2ecc421",
   "metadata": {},
   "outputs": [],
   "source": [
    "def get_entry_oph( ec ):\n",
    "    r = brenda.reactions.get_by_id(ec)\n",
    "    all_data = r.PH['optimum']\n",
    "    result = []\n",
    "    for i in range(len(all_data)):\n",
    "        OPH = all_data[i]['value']\n",
    "        if '#' not in all_data[i]['meta']:\n",
    "            continue\n",
    "        p_refs = []\n",
    "        if ';' in all_data[i]['meta']:\n",
    "            meta_list = all_data[i]['meta'].split(';')\n",
    "            for meta in meta_list:\n",
    "                p_refs += list( meta.split('#')[1].split(',') )     \n",
    "        else:\n",
    "            meta = all_data[i]['meta']\n",
    "            p_refs += list( meta.split('#')[1].split(',') )\n",
    "            \n",
    "        for ref in p_refs:\n",
    "            if (ref in r.proteins) and (r.proteins[ref]['proteinID'] != ''):\n",
    "                p_id = r.proteins[ref]['proteinID']\n",
    "                p_id = p_id.replace('UniProt','').replace('SwissProt','').\\\n",
    "                replace('Swissprot','').replace('Uniprot','').replace('TrEMBL','').replace('GenBank','').strip()\n",
    "                if ' and ' in p_id:\n",
    "                    p_ids = p_id.split(' and ')\n",
    "                    for p_id in p_ids:\n",
    "                        result.append( {'EC':ec,'Species':r.proteins[ref]['name'],'UniProtID': p_id.strip(),'OpH':float(OPH)} )        \n",
    "                elif ' ' in p_id:\n",
    "                    p_id = max( p_id.split(' '), key=len )\n",
    "                    result.append( {'EC':ec,'Species':r.proteins[ref]['name'],'UniProtID': p_id.strip(),'OpH':float(OPH)} )\n",
    "                else:\n",
    "                    result.append( {'EC':ec,'Species':r.proteins[ref]['name'],'UniProtID': p_id.strip(),'OpH':float(OPH)} ) \n",
    "                \n",
    "    return  result"
   ]
  },
  {
   "cell_type": "code",
   "execution_count": 28,
   "id": "e312cbfa",
   "metadata": {},
   "outputs": [],
   "source": [
    "# data = []\n",
    "# idx = 0\n",
    "# for ec in ec_list:\n",
    "#     if idx % 500 == 0:\n",
    "#         print(str(idx) + ' done')\n",
    "#     data += get_entry_oph( ec )\n",
    "#     idx+=1"
   ]
  },
  {
   "cell_type": "code",
   "execution_count": 21,
   "id": "032e7cf5",
   "metadata": {},
   "outputs": [],
   "source": [
    "raw_oph = pd.DataFrame(data).dropna().drop_duplicates(subset=['UniProtID','OpH']).reset_index().drop(['index'],axis=1)\n",
    "raw_oph = raw_oph[raw_oph['OpH']>=0].reset_index().drop(['index'],axis=1)\n",
    "# raw_oph.to_csv('../data/raw_oph.csv',index=None)"
   ]
  },
  {
   "cell_type": "markdown",
   "id": "44b1a080",
   "metadata": {},
   "source": [
    "# Data clean"
   ]
  },
  {
   "cell_type": "code",
   "execution_count": 35,
   "id": "94f22f88",
   "metadata": {},
   "outputs": [],
   "source": [
    "raw_ot = pd.read_csv('../data/raw_ot.csv')\n",
    "keep_inds = []\n",
    "for i in list(raw_ot.index):\n",
    "    temp_id = list(raw_ot['UniProtID'])[i]\n",
    "    if len( raw_ot[raw_ot['UniProtID']==temp_id].index) == 1:\n",
    "        keep_inds.append(i)\n",
    "raw_ot = (raw_ot.iloc[keep_inds]).reset_index().drop(['index'],axis=1)"
   ]
  },
  {
   "cell_type": "code",
   "execution_count": 37,
   "id": "c1a4dd6e",
   "metadata": {},
   "outputs": [],
   "source": [
    "raw_oph = pd.read_csv('../data/raw_oph.csv')\n",
    "keep_inds = []\n",
    "for i in list(raw_oph.index):\n",
    "    temp_id = list(raw_oph['UniProtID'])[i]\n",
    "    if len( raw_oph[raw_oph['UniProtID']==temp_id].index) == 1:\n",
    "        keep_inds.append(i)\n",
    "raw_oph = (raw_oph.iloc[keep_inds]).reset_index().drop(['index'],axis=1)"
   ]
  },
  {
   "cell_type": "markdown",
   "id": "e9c27e92",
   "metadata": {},
   "source": [
    "# Get protein sequences from Uniprot"
   ]
  },
  {
   "cell_type": "code",
   "execution_count": 40,
   "id": "e4ef29c1",
   "metadata": {},
   "outputs": [],
   "source": [
    "def get_seq(ID):\n",
    "    url = \"https://www.uniprot.org/uniprot/%s.fasta\" % ID\n",
    "    try :\n",
    "        data = requests.get(url)\n",
    "        if data.status_code != 200:\n",
    "            seq = 'NaN'\n",
    "        else:\n",
    "            seq =  \"\".join(data.text.split(\"\\n\")[1:])\n",
    "    except :\n",
    "        seq = 'NaN'\n",
    "    return seq"
   ]
  },
  {
   "cell_type": "code",
   "execution_count": 26,
   "id": "88915c81",
   "metadata": {},
   "outputs": [],
   "source": [
    "# seqs_ot = []\n",
    "# total = len(raw_ot.index)\n",
    "# for i in list(raw_ot.index):\n",
    "#     if i%1000 == 0:\n",
    "#         print( str(i/total)+'% done' ) \n",
    "#     temp_id = list(raw_ot['UniProtID'])[i].strip()\n",
    "#     temp_seq =get_seq( temp_id )\n",
    "#     seqs_ot.append(temp_seq)\n",
    "# raw_ot['seq'] = seqs_ot"
   ]
  },
  {
   "cell_type": "code",
   "execution_count": 27,
   "id": "448cc790",
   "metadata": {},
   "outputs": [],
   "source": [
    "# seqs_oph = []\n",
    "# total = len(raw_oph.index)\n",
    "# for i in list(raw_oph.index):\n",
    "#     if i%1000 == 0:\n",
    "#         print( str(i/total)+'% done' ) \n",
    "#     temp_id = list(raw_oph['UniProtID'])[i].strip()\n",
    "#     temp_seq =get_seq( temp_id )\n",
    "#     seqs_oph.append(temp_seq)\n",
    "# raw_oph['seq'] = seqs_oph"
   ]
  },
  {
   "cell_type": "code",
   "execution_count": 24,
   "id": "ce9a7113",
   "metadata": {},
   "outputs": [],
   "source": [
    "# raw_ot = raw_ot.dropna().reset_index().drop(['index'],axis=1)\n",
    "# raw_oph = raw_oph.dropna().reset_index().drop(['index'],axis=1)\n",
    "# raw_ot.to_csv('../data/ot_data.csv',index=None)\n",
    "# raw_oph.to_csv('../data/oph_data.csv',index=None)"
   ]
  },
  {
   "cell_type": "code",
   "execution_count": 3,
   "id": "24488cc6",
   "metadata": {},
   "outputs": [],
   "source": [
    "# ot_data = pd.read_csv('../data/ot_data.csv')\n",
    "ot_merge = pd.read_csv('../data/ot_merge.csv')\n",
    "oph_data = pd.read_csv('../data/oph_data.csv')"
   ]
  },
  {
   "cell_type": "code",
   "execution_count": 12,
   "id": "1bab857f",
   "metadata": {},
   "outputs": [],
   "source": [
    "# ogt_topt = pd.read_csv('../data/sequence_ogt_topt.csv') #from https://github.com/jafetgado/tomer\n",
    "# prot_ids, ots, seqs = [],[],[]\n",
    "# supp_ids = list( set(ogt_topt['uniprot_id']) - set(ot_data['UniProtID']) )\n",
    "# for p_id in supp_ids:\n",
    "#     prot_ids.append( p_id )\n",
    "#     temp_pd = ogt_topt[ogt_topt['uniprot_id'] == p_id]\n",
    "#     ots.append( float(list(temp_pd['topt'])[0]) )\n",
    "#     seqs.append( list(temp_pd['sequence'])[0].strip() )\n",
    "# supp_ots = pd.DataFrame(zip(['Unknown' for i in range(len(supp_ids))],\\\n",
    "#                             ['Unknown' for i in range(len(supp_ids))],prot_ids, ots, seqs),\\\n",
    "#                         columns=['EC', 'Species', 'UniProtID', 'OT', 'seq'])"
   ]
  },
  {
   "cell_type": "code",
   "execution_count": 16,
   "id": "4544b4bb",
   "metadata": {},
   "outputs": [],
   "source": [
    "# ot_merge = (pd.concat([ot_data, supp_ots]) ).reset_index().drop(['index'],axis=1)\n",
    "# ot_merge.to_csv('../data/ot_merge.csv',index=None)"
   ]
  },
  {
   "cell_type": "code",
   "execution_count": 13,
   "id": "4999beb9",
   "metadata": {},
   "outputs": [
    {
     "data": {
      "image/png": "[encoded data removed]",
      "text/plain": [
       "<Figure size 720x288 with 2 Axes>"
      ]
     },
     "metadata": {
      "needs_background": "light"
     },
     "output_type": "display_data"
    }
   ],
   "source": [
    "fig, axs = plt.subplots(1,2, figsize=(10,4))\n",
    "axs[0].hist(ot_merge['OT'],bins=20);\n",
    "axs[0].set_xlabel('Optimal temperature')\n",
    "axs[1].hist(oph_data['OpH'],bins=20);\n",
    "axs[1].set_xlabel('Optimal pH')\n",
    "for ax in axs:\n",
    "    ax.set_ylabel('Count')"
   ]
  },
  {
   "cell_type": "markdown",
   "id": "2ac15a66",
   "metadata": {},
   "source": [
    "# Split data into train and test (9:1)"
   ]
  },
  {
   "cell_type": "code",
   "execution_count": 15,
   "id": "1a435a88",
   "metadata": {},
   "outputs": [],
   "source": [
    "def split_table( table, ratio ):\n",
    "    idx=list(table.index)\n",
    "    np.random.shuffle(idx)\n",
    "    num_split = int( len(idx) * ratio)\n",
    "    idx_test, idx_train = idx[:num_split], idx[num_split:]\n",
    "    train_table = (table.iloc[idx_train]).reset_index().drop(['index'],axis=1)\n",
    "    test_table = (table.iloc[idx_test]).reset_index().drop(['index'],axis=1)\n",
    "    return train_table,test_table "
   ]
  },
  {
   "cell_type": "code",
   "execution_count": 16,
   "id": "f49eb651",
   "metadata": {},
   "outputs": [],
   "source": [
    "# train_ot, test_ot = split_table(ot_merge, ratio=0.1)\n",
    "# train_oph, test_oph = split_table( oph_data, ratio=0.1)"
   ]
  },
  {
   "cell_type": "code",
   "execution_count": 21,
   "id": "08378441",
   "metadata": {},
   "outputs": [
    {
     "data": {
      "text/plain": [
       "Text(0.5, 0.98, 'Test set')"
      ]
     },
     "execution_count": 21,
     "metadata": {},
     "output_type": "execute_result"
    },
    {
     "data": {
      "image/png": "[encoded data removed]",
      "text/plain": [
       "<Figure size 720x288 with 2 Axes>"
      ]
     },
     "metadata": {
      "needs_background": "light"
     },
     "output_type": "display_data"
    }
   ],
   "source": [
    "fig, axs = plt.subplots(1,2, figsize=(10,4))\n",
    "axs[0].hist(test_ot['OT'],bins=20);\n",
    "axs[0].set_xlabel('Optimal temperature')\n",
    "axs[1].hist(test_oph['OpH'],bins=20);\n",
    "axs[1].set_xlabel('Optimal pH')\n",
    "for ax in axs:\n",
    "    ax.set_ylabel('Count')\n",
    "plt.suptitle('Test set')"
   ]
  },
  {
   "cell_type": "code",
   "execution_count": 22,
   "id": "72c0df0f",
   "metadata": {},
   "outputs": [
    {
     "data": {
      "text/plain": [
       "Text(0.5, 0.98, 'Train set(before oversampling)')"
      ]
     },
     "execution_count": 22,
     "metadata": {},
     "output_type": "execute_result"
    },
    {
     "data": {
      "image/png": "[encoded data removed]",
      "text/plain": [
       "<Figure size 720x288 with 2 Axes>"
      ]
     },
     "metadata": {
      "needs_background": "light"
     },
     "output_type": "display_data"
    }
   ],
   "source": [
    "fig, axs = plt.subplots(1,2, figsize=(10,4))\n",
    "axs[0].hist(train_ot['OT'],bins=20);\n",
    "axs[0].set_xlabel('Optimal temperature')\n",
    "axs[1].hist(train_oph['OpH'],bins=20);\n",
    "axs[1].set_xlabel('Optimal pH')\n",
    "for ax in axs:\n",
    "    ax.set_ylabel('Count')\n",
    "plt.suptitle('Train set(before oversampling)')"
   ]
  },
  {
   "cell_type": "markdown",
   "id": "44d0601d",
   "metadata": {},
   "source": [
    "# Oversampling for the train dataset\n",
    "* OT > 40 and OT < 20\n",
    "* OpH >8 and OpH < 6"
   ]
  },
  {
   "cell_type": "code",
   "execution_count": 28,
   "id": "4e8574fc",
   "metadata": {},
   "outputs": [],
   "source": [
    "# # optimal temperature\n",
    "# high_ot = (train_ot[train_ot['OT']>40]).reset_index().drop(['index'],axis=1)\n",
    "# low_ot = (train_ot[train_ot['OT']<20]).reset_index().drop(['index'],axis=1)\n",
    "# over_low, over_high = [],[]\n",
    "# for i in range( len(high_ot.index) ):\n",
    "#     rand_idx = np.random.randint( len( high_ot.index ) - 1,size=1)[0]\n",
    "#     temp_data = dict( high_ot.iloc[rand_idx] )\n",
    "#     over_high.append( temp_data )\n",
    "# for i in range( len(low_ot.index) ):\n",
    "#     rand_idx = np.random.randint( len( low_ot.index ) - 1,size=1)[0]\n",
    "#     temp_data = dict( low_ot.iloc[rand_idx] )\n",
    "#     over_low.append( temp_data )\n",
    "# over_set = over_low + over_high\n",
    "# random.shuffle(over_set)\n",
    "# over_pd = pd.DataFrame(over_set)\n",
    "# train_ot = ( pd.concat([ train_ot, over_pd]) ).reset_index().drop(['index'],axis=1)"
   ]
  },
  {
   "cell_type": "code",
   "execution_count": 29,
   "id": "e9510d81",
   "metadata": {},
   "outputs": [],
   "source": [
    "# # optimal pH\n",
    "# high_oph = (train_oph[train_oph['OpH']>8]).reset_index().drop(['index'],axis=1)\n",
    "# low_oph = (train_oph[train_oph['OpH']<6]).reset_index().drop(['index'],axis=1)\n",
    "# over_low, over_high = [],[]\n",
    "# for i in range( len(high_oph.index) ):\n",
    "#     rand_idx = np.random.randint( len( high_oph.index ) - 1,size=1)[0]\n",
    "#     temp_data = dict( high_oph.iloc[rand_idx] )\n",
    "#     over_high.append( temp_data )\n",
    "# for i in range( len(low_oph.index) ):\n",
    "#     rand_idx = np.random.randint( len( low_oph.index ) - 1,size=1)[0]\n",
    "#     temp_data = dict( low_oph.iloc[rand_idx] )\n",
    "#     over_low.append( temp_data )\n",
    "# over_set = over_low + over_high\n",
    "# random.shuffle(over_set)\n",
    "# over_pd = pd.DataFrame(over_set)\n",
    "# train_oph = ( pd.concat([ train_oph, over_pd]) ).reset_index().drop(['index'],axis=1)"
   ]
  },
  {
   "cell_type": "code",
   "execution_count": 30,
   "id": "dfd99cca",
   "metadata": {},
   "outputs": [
    {
     "data": {
      "text/plain": [
       "Text(0.5, 0.98, 'Train set(after oversampling)')"
      ]
     },
     "execution_count": 30,
     "metadata": {},
     "output_type": "execute_result"
    },
    {
     "data": {
      "image/png": "[encoded data removed]",
      "text/plain": [
       "<Figure size 720x288 with 2 Axes>"
      ]
     },
     "metadata": {
      "needs_background": "light"
     },
     "output_type": "display_data"
    }
   ],
   "source": [
    "fig, axs = plt.subplots(1,2, figsize=(10,4))\n",
    "axs[0].hist(train_ot['OT'],bins=20);\n",
    "axs[0].set_xlabel('Optimal temperature')\n",
    "axs[1].hist(train_oph['OpH'],bins=20);\n",
    "axs[1].set_xlabel('Optimal pH')\n",
    "for ax in axs:\n",
    "    ax.set_ylabel('Count')\n",
    "plt.suptitle('Train set(after oversampling)')"
   ]
  },
  {
   "cell_type": "code",
   "execution_count": 33,
   "id": "6f86ec6e",
   "metadata": {},
   "outputs": [],
   "source": [
    "# train_ot.to_csv('../data/train_ot.csv', index=None)\n",
    "# test_ot.to_csv('../data/test_ot.csv', index=None)\n",
    "# train_oph.to_csv('../data/train_oph.csv', index=None)\n",
    "# test_oph.to_csv('../data/test_oph.csv', index=None)"
   ]
  },
  {
   "cell_type": "markdown",
   "id": "531d6894",
   "metadata": {},
   "source": [
    "# Generate protein 3-mer dictionary"
   ]
  },
  {
   "cell_type": "code",
   "execution_count": 2,
   "id": "c7b4242b",
   "metadata": {},
   "outputs": [],
   "source": [
    "ot_merge = pd.read_csv('../data/ot_merge.csv')\n",
    "oph_data = pd.read_csv('../data/oph_data.csv')"
   ]
  },
  {
   "cell_type": "code",
   "execution_count": 3,
   "id": "7c83b490",
   "metadata": {},
   "outputs": [],
   "source": [
    "all_seqs = list( set( list( ot_merge['seq'] ) + list( oph_data['seq'] ) ) )"
   ]
  },
  {
   "cell_type": "code",
   "execution_count": 4,
   "id": "b0ad1912",
   "metadata": {},
   "outputs": [
    {
     "name": "stdout",
     "output_type": "stream",
     "text": [
      "0.1283 completed.\n",
      "0.2565 completed.\n",
      "0.3848 completed.\n",
      "0.5131 completed.\n",
      "0.6414 completed.\n",
      "0.7696 completed.\n",
      "0.8979 completed.\n"
     ]
    }
   ],
   "source": [
    "word_dict = gen_worddict( all_seqs, 3 )"
   ]
  },
  {
   "cell_type": "code",
   "execution_count": 8,
   "id": "018b244c",
   "metadata": {},
   "outputs": [],
   "source": [
    "# dump_pickle(word_dict, '../data/word_dict.pkl')"
   ]
  },
  {
   "cell_type": "markdown",
   "id": "43b86962",
   "metadata": {},
   "source": [
    "# Default hyperparameters"
   ]
  },
  {
   "cell_type": "code",
   "execution_count": 3,
   "id": "14c07021",
   "metadata": {},
   "outputs": [],
   "source": [
    "# default_dict = { 'dim': 64,'window':5, 'layer_cnn': 4, 'layer_out': 4 }\n",
    "# dump_pickle(default_dict, '../data/performances/default.pkl')"
   ]
  },
  {
   "cell_type": "code",
   "execution_count": null,
   "id": "32265f1c",
   "metadata": {},
   "outputs": [],
   "source": []
  }
 ],
 "metadata": {
  "kernelspec": {
   "display_name": "Python 3 (ipykernel)",
   "language": "python",
   "name": "python3"
  },
  "language_info": {
   "codemirror_mode": {
    "name": "ipython",
    "version": 3
   },
   "file_extension": ".py",
   "mimetype": "text/x-python",
   "name": "python",
   "nbconvert_exporter": "python",
   "pygments_lexer": "ipython3",
   "version": "3.8.10"
  }
 },
 "nbformat": 4,
 "nbformat_minor": 5
}
