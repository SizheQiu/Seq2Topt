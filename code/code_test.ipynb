{
 "cells": [
  {
   "cell_type": "code",
   "execution_count": 46,
   "id": "2fb8a629",
   "metadata": {},
   "outputs": [],
   "source": [
    "import torch\n",
    "import torch.nn as nn\n",
    "import torch.nn.functional as F\n",
    "from functions import *"
   ]
  },
  {
   "cell_type": "code",
   "execution_count": 47,
   "id": "963901f1",
   "metadata": {},
   "outputs": [],
   "source": [
    "device = torch.device('cpu')\n",
    "word_dict = load_pickle(   '../data/word_dict.pkl' )\n",
    "seq_train = load_pkl2ndarr( os.path.join('../data/ot_input/', 'OT'+'_train_proteins.pkl') )\n",
    "target_train = load_pkl2ndarr( os.path.join('../data/ot_input/', 'OT'+'_train_targets.pkl') )\n",
    "datapack = [seq_train, target_train]\n",
    "batch_data = [datapack[di][8: 12] for di in range(len(datapack))]\n",
    "words, target_values = data2tensor(batch_data, True, device)"
   ]
  },
  {
   "cell_type": "code",
   "execution_count": null,
   "id": "bf79af4a",
   "metadata": {},
   "outputs": [],
   "source": [
    "# embeddding-attention-cnn1d-dense layer"
   ]
  },
  {
   "cell_type": "code",
   "execution_count": 48,
   "id": "37b98dfe",
   "metadata": {},
   "outputs": [
    {
     "name": "stdout",
     "output_type": "stream",
     "text": [
      "torch.Size([4, 554, 64])\n"
     ]
    }
   ],
   "source": [
    "#embedding\n",
    "dim=64\n",
    "embed_word = nn.Embedding(len(word_dict), dim)\n",
    "x = embed_word(words)\n",
    "print(x.size())"
   ]
  },
  {
   "cell_type": "code",
   "execution_count": 49,
   "id": "698f5da7",
   "metadata": {},
   "outputs": [
    {
     "name": "stdout",
     "output_type": "stream",
     "text": [
      "torch.Size([4, 554, 554])\n",
      "torch.Size([4, 554, 64])\n"
     ]
    }
   ],
   "source": [
    "#self attention\n",
    "key= nn.Linear(dim, dim)\n",
    "query= nn.Linear(dim, dim)\n",
    "value = nn.Linear(dim, dim)\n",
    "h1= torch.relu(key(x))\n",
    "h2= torch.relu(query(x))\n",
    "h3 = torch.relu(value(x))\n",
    "A = F.softmax( torch.matmul(h1,h2.transpose(1,2) ), dim=-1)\n",
    "y = torch.matmul(A,h3)\n",
    "print(A.size())\n",
    "print(y.size())"
   ]
  },
  {
   "cell_type": "code",
   "execution_count": 50,
   "id": "debaf1c4",
   "metadata": {},
   "outputs": [],
   "source": [
    "window = 5\n",
    "cnn = nn.Conv2d(in_channels=1, out_channels=1, kernel_size=2*window+1, stride=1, padding=window)"
   ]
  },
  {
   "cell_type": "code",
   "execution_count": 51,
   "id": "ab17d8ce",
   "metadata": {},
   "outputs": [],
   "source": [
    "y=torch.unsqueeze(y, 1)\n",
    "y = torch.relu(cnn(y)) \n",
    "y = torch.squeeze(y, 1)"
   ]
  },
  {
   "cell_type": "code",
   "execution_count": 55,
   "id": "09eab704",
   "metadata": {},
   "outputs": [
    {
     "data": {
      "text/plain": [
       "torch.Size([4, 64])"
      ]
     },
     "execution_count": 55,
     "metadata": {},
     "output_type": "execute_result"
    }
   ],
   "source": [
    "m = nn.AdaptiveAvgPool2d((1, 64))\n",
    "k = torch.squeeze( m(y), 1)\n",
    "k.size()"
   ]
  },
  {
   "cell_type": "code",
   "execution_count": 39,
   "id": "43d398b0",
   "metadata": {},
   "outputs": [
    {
     "data": {
      "text/plain": [
       "torch.Size([4, 64])"
      ]
     },
     "execution_count": 39,
     "metadata": {},
     "output_type": "execute_result"
    }
   ],
   "source": [
    "out = torch.max(y, 1).values\n",
    "out.size()"
   ]
  },
  {
   "cell_type": "code",
   "execution_count": 43,
   "id": "a98560cc",
   "metadata": {},
   "outputs": [],
   "source": [
    "out_layer = nn.Linear( dim , 1)"
   ]
  },
  {
   "cell_type": "code",
   "execution_count": 44,
   "id": "e77c3a5b",
   "metadata": {},
   "outputs": [
    {
     "data": {
      "text/plain": [
       "torch.Size([4, 1])"
      ]
     },
     "execution_count": 44,
     "metadata": {},
     "output_type": "execute_result"
    }
   ],
   "source": [
    "final_out =  out_layer (out)\n",
    "final_out.size()"
   ]
  },
  {
   "cell_type": "code",
   "execution_count": 45,
   "id": "ec197ecf",
   "metadata": {},
   "outputs": [
    {
     "data": {
      "text/plain": [
       "tensor([[0.0990],\n",
       "        [0.1098],\n",
       "        [0.0652],\n",
       "        [0.0807]], grad_fn=<AddmmBackward>)"
      ]
     },
     "execution_count": 45,
     "metadata": {},
     "output_type": "execute_result"
    }
   ],
   "source": [
    "final_out"
   ]
  },
  {
   "cell_type": "code",
   "execution_count": null,
   "id": "fbb80451",
   "metadata": {},
   "outputs": [],
   "source": []
  }
 ],
 "metadata": {
  "kernelspec": {
   "display_name": "Python 3 (ipykernel)",
   "language": "python",
   "name": "python3"
  },
  "language_info": {
   "codemirror_mode": {
    "name": "ipython",
    "version": 3
   },
   "file_extension": ".py",
   "mimetype": "text/x-python",
   "name": "python",
   "nbconvert_exporter": "python",
   "pygments_lexer": "ipython3",
   "version": "3.8.10"
  }
 },
 "nbformat": 4,
 "nbformat_minor": 5
}
