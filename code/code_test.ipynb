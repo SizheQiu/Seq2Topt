{
 "cells": [
  {
   "cell_type": "code",
   "execution_count": 36,
   "id": "2fb8a629",
   "metadata": {},
   "outputs": [],
   "source": [
    "import torch\n",
    "import torch.nn as nn\n",
    "import torch.nn.functional as F\n",
    "from functions import *"
   ]
  },
  {
   "cell_type": "code",
   "execution_count": 37,
   "id": "963901f1",
   "metadata": {},
   "outputs": [],
   "source": [
    "device = torch.device('cpu')\n",
    "word_dict = load_pickle(   '../data/word_dict.pkl' )\n",
    "seq_train = load_pkl2ndarr( '../data/input/train_proteins.pkl' )\n",
    "target_train = load_pkl2ndarr( '../data/input/train_normtopts.pkl' )\n",
    "datapack = [seq_train, target_train]\n",
    "batch_data = [datapack[di][8: 12] for di in range(len(datapack))]\n",
    "words, target_values = data2tensor(batch_data, True, device)"
   ]
  },
  {
   "cell_type": "code",
   "execution_count": 38,
   "id": "bf79af4a",
   "metadata": {},
   "outputs": [],
   "source": [
    "# embeddding-attention-cnn1d-dense layer"
   ]
  },
  {
   "cell_type": "code",
   "execution_count": 39,
   "id": "37b98dfe",
   "metadata": {},
   "outputs": [
    {
     "name": "stdout",
     "output_type": "stream",
     "text": [
      "torch.Size([4, 64, 570])\n"
     ]
    }
   ],
   "source": [
    "#embedding\n",
    "dim=64\n",
    "window=5\n",
    "embed_word = nn.Embedding(len(word_dict)+1, dim)\n",
    "x = embed_word(words)\n",
    "x = x.transpose(1,2)\n",
    "print(x.size())"
   ]
  },
  {
   "cell_type": "code",
   "execution_count": 40,
   "id": "fbb80451",
   "metadata": {},
   "outputs": [],
   "source": [
    "values_conv = nn.Conv1d(dim, dim, kernel_size=2*window+1, padding=window)\n",
    "weights_conv = nn.Conv1d(dim, dim, kernel_size=2*window+1, padding=window)"
   ]
  },
  {
   "cell_type": "code",
   "execution_count": 45,
   "id": "5159df6f",
   "metadata": {},
   "outputs": [
    {
     "name": "stdout",
     "output_type": "stream",
     "text": [
      "torch.Size([4, 64, 570])\n",
      "torch.Size([4, 64, 570])\n"
     ]
    }
   ],
   "source": [
    "values = values_conv(x)\n",
    "weights = weights_conv(x)\n",
    "weights = F.softmax(weights, dim=-1)\n",
    "xa = values * weights\n",
    "print(weights.size())\n",
    "print(xa.size())"
   ]
  },
  {
   "cell_type": "code",
   "execution_count": 51,
   "id": "a3a15f56",
   "metadata": {},
   "outputs": [],
   "source": [
    "xa_mean = torch.mean(xa, dim=-1)\n",
    "xa_max,_ = torch.max(xa,dim=-1)\n",
    "pf = torch.cat([xa_mean, xa_max], dim=1)"
   ]
  },
  {
   "cell_type": "code",
   "execution_count": 52,
   "id": "802f9cf8",
   "metadata": {},
   "outputs": [
    {
     "data": {
      "text/plain": [
       "torch.Size([4, 128])"
      ]
     },
     "execution_count": 52,
     "metadata": {},
     "output_type": "execute_result"
    }
   ],
   "source": [
    "pf.size()"
   ]
  },
  {
   "cell_type": "code",
   "execution_count": 1,
   "id": "ae3cea7b",
   "metadata": {},
   "outputs": [],
   "source": [
    "import torch\n",
    "import esm\n",
    "import pandas as pd\n",
    "import numpy as np"
   ]
  },
  {
   "cell_type": "code",
   "execution_count": 24,
   "id": "2cd3fcb4",
   "metadata": {},
   "outputs": [],
   "source": [
    "data = [\n",
    "    (\"protein1\", \"MKTVRQERLKSIVRILERSKEPVSGAQLAEELSVSRQVIVQDIAYLRSLGYNIVATPRGYVLAGG\"),\n",
    "    (\"protein2\", \"KALTARQQEVFDLIRDHISQTGMPPTRAEIAQRLGFRSPNAAEEHLKALARKGVIEIVSGASRGIRLLQEE\"),\n",
    "    (\"protein3\",\"KALTARQQEVFDLIRDISQTGMPPTRAEIAQRLGFRSPNAAEEHLKALARKGVIEIVSGASRGIRLLQEERILERSKEPVSGAQLAEELSVSRQVIVQDI\") ]"
   ]
  },
  {
   "cell_type": "code",
   "execution_count": 26,
   "id": "e2b2c532",
   "metadata": {},
   "outputs": [],
   "source": [
    "model, alphabet = esm.pretrained.esm2_t33_650M_UR50D()\n",
    "batch_converter = alphabet.get_batch_converter()\n",
    "model.eval();"
   ]
  },
  {
   "cell_type": "code",
   "execution_count": 27,
   "id": "a6f546c9",
   "metadata": {},
   "outputs": [],
   "source": [
    "batch_labels, batch_strs, batch_tokens = batch_converter(data)\n",
    "batch_lens = (batch_tokens != alphabet.padding_idx).sum(1)"
   ]
  },
  {
   "cell_type": "code",
   "execution_count": 28,
   "id": "0162298c",
   "metadata": {},
   "outputs": [],
   "source": [
    "with torch.no_grad():\n",
    "    results = model(batch_tokens, repr_layers=[33], return_contacts=True)"
   ]
  },
  {
   "cell_type": "code",
   "execution_count": 29,
   "id": "f1f35c3f",
   "metadata": {},
   "outputs": [
    {
     "data": {
      "text/plain": [
       "torch.Size([3, 102, 1280])"
      ]
     },
     "execution_count": 29,
     "metadata": {},
     "output_type": "execute_result"
    }
   ],
   "source": [
    "results[\"representations\"][33].size()"
   ]
  },
  {
   "cell_type": "code",
   "execution_count": null,
   "id": "ca555338",
   "metadata": {},
   "outputs": [],
   "source": []
  }
 ],
 "metadata": {
  "kernelspec": {
   "display_name": "Python 3 (ipykernel)",
   "language": "python",
   "name": "python3"
  },
  "language_info": {
   "codemirror_mode": {
    "name": "ipython",
    "version": 3
   },
   "file_extension": ".py",
   "mimetype": "text/x-python",
   "name": "python",
   "nbconvert_exporter": "python",
   "pygments_lexer": "ipython3",
   "version": "3.8.10"
  }
 },
 "nbformat": 4,
 "nbformat_minor": 5
}
