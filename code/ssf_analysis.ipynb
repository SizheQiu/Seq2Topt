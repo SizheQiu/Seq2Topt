{
 "cells": [
  {
   "cell_type": "code",
   "execution_count": 2,
   "id": "9b7a93e3",
   "metadata": {},
   "outputs": [],
   "source": [
    "import numpy as np\n",
    "import pandas as pd\n",
    "from matplotlib import pyplot as plt\n",
    "import seaborn as sns\n",
    "import pickle\n",
    "from ssfeature import get_ssfeature\n",
    "from sklearn.preprocessing import StandardScaler\n",
    "from sklearn.decomposition import PCA\n",
    "from scipy.stats import pearsonr\n",
    "from functions import *\n",
    "import torch"
   ]
  },
  {
   "cell_type": "markdown",
   "id": "fc65dfe4",
   "metadata": {},
   "source": [
    "# Load data"
   ]
  },
  {
   "cell_type": "code",
   "execution_count": 2,
   "id": "232a7f22",
   "metadata": {},
   "outputs": [],
   "source": [
    "topt_train = pd.read_csv('../data/Topt/train_os.csv')\n",
    "topt_test = pd.read_csv('../data/Topt/test.csv')\n",
    "phopt_train = pd.read_csv('../data/pHopt/train_pH.csv')\n",
    "phopt_test = pd.read_csv('../data/pHopt/test_pH.csv')\n",
    "tm_train = pd.read_csv('../data/Tm/Tm_Train.csv')\n",
    "tm_test = pd.read_csv('../data/Tm/Tm_Test.csv')"
   ]
  },
  {
   "cell_type": "markdown",
   "id": "86deeda6",
   "metadata": {},
   "source": [
    "# Compute SSFs"
   ]
  },
  {
   "cell_type": "code",
   "execution_count": 4,
   "id": "0b2d1612",
   "metadata": {},
   "outputs": [],
   "source": [
    "def get_ssf_table(table, target_column, seq_column='sequence'):\n",
    "    data = []\n",
    "    for i in range(len(table.index)):\n",
    "        temp = {target_column: list(table[target_column])[i] }\n",
    "        temp.update( get_ssfeature( list(table[seq_column])[i] ) )\n",
    "        data.append( temp )\n",
    "    result = pd.DataFrame(data)\n",
    "    return result"
   ]
  },
  {
   "cell_type": "code",
   "execution_count": 5,
   "id": "cd1e995a",
   "metadata": {},
   "outputs": [],
   "source": [
    "# topt_ssf_train = get_ssf_table(topt_train,'topt')\n",
    "# topt_ssf_test = get_ssf_table(topt_test,'topt')\n",
    "\n",
    "# phopt_ssf_train = get_ssf_table( phopt_train,'pHopt')\n",
    "# phopt_ssf_test = get_ssf_table( phopt_test,'pHopt')\n",
    "\n",
    "# tm_ssf_train = get_ssf_table( tm_train,'tm')\n",
    "# tm_ssf_test = get_ssf_table( tm_test,'tm')"
   ]
  },
  {
   "cell_type": "markdown",
   "id": "e270e09b",
   "metadata": {},
   "source": [
    "# Pearson Correlation"
   ]
  },
  {
   "cell_type": "code",
   "execution_count": 43,
   "id": "09a014f4",
   "metadata": {},
   "outputs": [],
   "source": [
    "topt_ssf = pd.concat([topt_ssf_train,topt_ssf_test])\n",
    "phopt_ssf = pd.concat([phopt_ssf_train, phopt_ssf_test])\n",
    "tm_ssf = pd.concat([tm_ssf_train, tm_ssf_test])"
   ]
  },
  {
   "cell_type": "code",
   "execution_count": 32,
   "id": "a8c1835f",
   "metadata": {},
   "outputs": [
    {
     "name": "stderr",
     "output_type": "stream",
     "text": [
      "/home/bras5181/miniconda3/lib/python3.8/site-packages/scipy/stats/_stats_py.py:4424: ConstantInputWarning: An input array is constant; the correlation coefficient is not defined.\n",
      "  warnings.warn(stats.ConstantInputWarning(msg))\n"
     ]
    },
    {
     "name": "stdout",
     "output_type": "stream",
     "text": [
      "503\n"
     ]
    }
   ],
   "source": [
    "pv_cut = 0.01\n",
    "sigf_topt = []; sigf_phopt = []; sigf_tm = []\n",
    "for i in range(1,len(topt_ssf.columns)):\n",
    "    res = pearsonr( list(topt_ssf[topt_ssf.columns[i]]), list(topt_ssf.topt) )\n",
    "    if res.pvalue <= pv_cut:\n",
    "        sigf_topt.append(topt_ssf.columns[i])\n",
    "\n",
    "for i in range(1,len(phopt_ssf.columns)):\n",
    "    res = pearsonr( list(phopt_ssf[phopt_ssf.columns[i]]), list(phopt_ssf.pHopt) )\n",
    "    if res.pvalue <= pv_cut:\n",
    "        sigf_phopt.append(phopt_ssf.columns[i])\n",
    "\n",
    "for i in range(1,len(tm_ssf.columns)):\n",
    "    res = pearsonr( list(tm_ssf[tm_ssf.columns[i]]), list(tm_ssf.tm) )\n",
    "    if res.pvalue <= pv_cut:\n",
    "        sigf_tm.append(tm_ssf.columns[i])\n",
    "sigfeatures = set(sigf_topt)&set(sigf_phopt)&set(sigf_tm)\n",
    "print(len(sigfeatures))"
   ]
  },
  {
   "cell_type": "code",
   "execution_count": 34,
   "id": "6f307f5b",
   "metadata": {},
   "outputs": [],
   "source": [
    "# dump_pickle(sigfeatures,'../data/sig_ssfs.pkl')"
   ]
  },
  {
   "cell_type": "code",
   "execution_count": 44,
   "id": "e6297397",
   "metadata": {},
   "outputs": [],
   "source": [
    "sigfeatures = list( load_pickle('../data/sig_ssfs.pkl') )\n",
    "topt_ssf = topt_ssf[['topt']+sigfeatures]\n",
    "phopt_ssf = phopt_ssf[['pHopt']+sigfeatures]\n",
    "tm_ssf = tm_ssf[['tm']+sigfeatures]"
   ]
  },
  {
   "cell_type": "markdown",
   "id": "34b3b970",
   "metadata": {},
   "source": [
    "# Save ssf as ndarray"
   ]
  },
  {
   "cell_type": "code",
   "execution_count": 5,
   "id": "b23d1b5d",
   "metadata": {},
   "outputs": [],
   "source": [
    "sigfeatures = list( load_pickle('../data/sig_ssfs.pkl') )\n",
    "topt_ssf_train = topt_ssf_train[sigfeatures]\n",
    "topt_ssf_test = topt_ssf_test[sigfeatures]\n",
    "phopt_ssf_train = phopt_ssf_train[sigfeatures]\n",
    "phopt_ssf_test = phopt_ssf_test[sigfeatures]\n",
    "tm_ssf_train = tm_ssf_train[sigfeatures]\n",
    "tm_ssf_test = tm_ssf_test[sigfeatures]\n",
    "\n",
    "# dump_pickle(topt_ssf_train.values,'../data/Topt/train_ssf.pkl')\n",
    "# dump_pickle(topt_ssf_test.values,'../data/Topt/test_ssf.pkl')\n",
    "# dump_pickle(phopt_ssf_train.values,'../data/pHopt/train_ssf.pkl')\n",
    "# dump_pickle(phopt_ssf_test.values,'../data/pHopt/test_ssf.pkl')\n",
    "# dump_pickle(tm_ssf_train.values,'../data/Tm/train_ssf.pkl')\n",
    "# dump_pickle(tm_ssf_test.values,'../data/Tm/test_ssf.pkl')"
   ]
  },
  {
   "cell_type": "markdown",
   "id": "2804f7a1",
   "metadata": {},
   "source": [
    "# PCA"
   ]
  },
  {
   "cell_type": "code",
   "execution_count": 45,
   "id": "69be2a0f",
   "metadata": {},
   "outputs": [],
   "source": [
    "X_topt = topt_ssf.iloc[:,1:].values\n",
    "X_topt = StandardScaler().fit_transform(X_topt)\n",
    "\n",
    "X_ph = phopt_ssf.iloc[:,1:].values\n",
    "X_ph = StandardScaler().fit_transform(X_ph)\n",
    "\n",
    "X_tm = tm_ssf.iloc[:,1:].values\n",
    "X_tm = StandardScaler().fit_transform(X_tm)"
   ]
  },
  {
   "cell_type": "code",
   "execution_count": 46,
   "id": "1e9b5d26",
   "metadata": {},
   "outputs": [
    {
     "name": "stdout",
     "output_type": "stream",
     "text": [
      "Topt:\n",
      "[0.08140898 0.05864385]\n",
      "pHopt:\n",
      "[0.06641301 0.04667219]\n",
      "Tm:\n",
      "[0.05993128 0.04868127]\n"
     ]
    }
   ],
   "source": [
    "pca_topt = PCA(n_components=2)\n",
    "topt_pc = pca_topt.fit_transform(X_topt)\n",
    "print('Topt:'); print(pca_topt.explained_variance_ratio_)\n",
    "\n",
    "pca_ph = PCA(n_components=2)\n",
    "ph_pc = pca_ph.fit_transform(X_ph)\n",
    "print('pHopt:'); print(pca_ph.explained_variance_ratio_)\n",
    "\n",
    "pca_tm = PCA(n_components=2)\n",
    "tm_pc = pca_tm.fit_transform(X_tm)\n",
    "print('Tm:'); print(pca_tm.explained_variance_ratio_)"
   ]
  },
  {
   "cell_type": "code",
   "execution_count": null,
   "id": "bf181abf",
   "metadata": {},
   "outputs": [],
   "source": [
    "# low explained variance"
   ]
  },
  {
   "cell_type": "markdown",
   "id": "8c7e35f4",
   "metadata": {},
   "source": [
    "# code test"
   ]
  },
  {
   "cell_type": "code",
   "execution_count": 16,
   "id": "f52a05b0",
   "metadata": {},
   "outputs": [],
   "source": [
    "train_ssf = load_pickle('../data/Topt/train_ssf.pkl'); test_ssf = load_pickle('../data/Topt/test_ssf.pkl')\n",
    "sig_ssfs = list( load_pickle('../data/sig_ssfs.pkl') )\n",
    "train_ssf = train_ssf[sig_ssfs]; test_ssf = test_ssf[sig_ssfs]\n",
    "train_data = pd.read_csv('../data/Topt/train_os.csv')"
   ]
  },
  {
   "cell_type": "code",
   "execution_count": 22,
   "id": "478419db",
   "metadata": {},
   "outputs": [],
   "source": [
    "train_pack = [np.array(train_data.uniprot_id), np.array(train_data.sequence), train_ssf.values, \\\n",
    "              np.array( rescale_targets(list(train_data['topt']),120, 0 )) ];"
   ]
  },
  {
   "cell_type": "code",
   "execution_count": 23,
   "id": "e38665d6",
   "metadata": {},
   "outputs": [],
   "source": [
    "def split_data( data, ratio=0.1):\n",
    "    idx = np.arange(len( data[0]))\n",
    "    np.random.shuffle(idx)\n",
    "    num_split = int(len(data[0]) * ratio)\n",
    "    idx_1, idx_0 = idx[:num_split], idx[num_split:]\n",
    "    data_0 = [ data[di][idx_0] for di in range(len(data))]\n",
    "    data_1 = [ data[di][idx_1] for di in range(len(data))]\n",
    "    return data_0, data_1"
   ]
  },
  {
   "cell_type": "code",
   "execution_count": 24,
   "id": "506c3b73",
   "metadata": {},
   "outputs": [],
   "source": [
    "train_pack, dev_pack = split_data( train_pack, 0.1)"
   ]
  },
  {
   "cell_type": "code",
   "execution_count": 33,
   "id": "8d24c079",
   "metadata": {},
   "outputs": [],
   "source": [
    "idx = np.arange(len(train_pack[0]))\n",
    "i=10; min_size=4\n",
    "batch_data = [train_pack[di][idx[ i* min_size: (i + 1) * min_size]] for di in range(len(train_pack))]"
   ]
  },
  {
   "cell_type": "code",
   "execution_count": 35,
   "id": "cbe6fdeb",
   "metadata": {},
   "outputs": [],
   "source": [
    "ids, seqs, ssfs, targets = batch_data"
   ]
  },
  {
   "cell_type": "code",
   "execution_count": 38,
   "id": "e551455e",
   "metadata": {},
   "outputs": [],
   "source": [
    "target_values = torch.FloatTensor( np.array( [ np.array([v]) for v in targets ] ) )"
   ]
  },
  {
   "cell_type": "code",
   "execution_count": 44,
   "id": "6ddfba76",
   "metadata": {},
   "outputs": [
    {
     "data": {
      "text/plain": [
       "torch.Size([4, 1])"
      ]
     },
     "execution_count": 44,
     "metadata": {},
     "output_type": "execute_result"
    }
   ],
   "source": [
    "target_values.size()"
   ]
  },
  {
   "cell_type": "code",
   "execution_count": 40,
   "id": "171e853c",
   "metadata": {},
   "outputs": [],
   "source": [
    "temp = torch.FloatTensor( ssfs )"
   ]
  },
  {
   "cell_type": "code",
   "execution_count": null,
   "id": "c57fc96e",
   "metadata": {},
   "outputs": [],
   "source": []
  }
 ],
 "metadata": {
  "kernelspec": {
   "display_name": "Python 3 (ipykernel)",
   "language": "python",
   "name": "python3"
  },
  "language_info": {
   "codemirror_mode": {
    "name": "ipython",
    "version": 3
   },
   "file_extension": ".py",
   "mimetype": "text/x-python",
   "name": "python",
   "nbconvert_exporter": "python",
   "pygments_lexer": "ipython3",
   "version": "3.8.10"
  }
 },
 "nbformat": 4,
 "nbformat_minor": 5
}
