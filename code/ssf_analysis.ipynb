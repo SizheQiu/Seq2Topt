{
 "cells": [
  {
   "cell_type": "code",
   "execution_count": 1,
   "id": "9b7a93e3",
   "metadata": {},
   "outputs": [],
   "source": [
    "import numpy as np\n",
    "import pandas as pd\n",
    "from matplotlib import pyplot as plt\n",
    "import seaborn as sns\n",
    "import pickle\n",
    "from ssfeature import get_ssfeature\n",
    "from sklearn.preprocessing import StandardScaler\n",
    "from sklearn.decomposition import PCA\n",
    "from scipy.stats import pearsonr\n",
    "from functions import *\n",
    "import torch"
   ]
  },
  {
   "cell_type": "markdown",
   "id": "fc65dfe4",
   "metadata": {},
   "source": [
    "# Load data"
   ]
  },
  {
   "cell_type": "code",
   "execution_count": 3,
   "id": "232a7f22",
   "metadata": {},
   "outputs": [],
   "source": [
    "topt_train = pd.read_csv('../data/Topt/train_os.csv')\n",
    "topt_test = pd.read_csv('../data/Topt/test.csv')\n",
    "phopt_train = pd.read_csv('../data/pHopt/train_pH.csv')\n",
    "phopt_test = pd.read_csv('../data/pHopt/test_pH.csv')\n",
    "tm_train = pd.read_csv('../data/Tm/Tm_Train.csv')\n",
    "tm_test = pd.read_csv('../data/Tm/Tm_Test.csv')"
   ]
  },
  {
   "cell_type": "markdown",
   "id": "86deeda6",
   "metadata": {},
   "source": [
    "# Compute SSFs"
   ]
  },
  {
   "cell_type": "code",
   "execution_count": 4,
   "id": "0b2d1612",
   "metadata": {},
   "outputs": [],
   "source": [
    "def get_ssf_table(table, target_column, seq_column='sequence'):\n",
    "    data = []\n",
    "    for i in range(len(table.index)):\n",
    "        temp = {target_column: list(table[target_column])[i] }\n",
    "        temp.update( get_ssfeature( list(table[seq_column])[i] ) )\n",
    "        data.append( temp )\n",
    "    result = pd.DataFrame(data)\n",
    "    return result"
   ]
  },
  {
   "cell_type": "code",
   "execution_count": 5,
   "id": "cd1e995a",
   "metadata": {},
   "outputs": [],
   "source": [
    "topt_ssf_train = get_ssf_table(topt_train,'topt')\n",
    "topt_ssf_test = get_ssf_table(topt_test,'topt')\n",
    "\n",
    "phopt_ssf_train = get_ssf_table( phopt_train,'pHopt')\n",
    "phopt_ssf_test = get_ssf_table( phopt_test,'pHopt')\n",
    "\n",
    "tm_ssf_train = get_ssf_table( tm_train,'tm')\n",
    "tm_ssf_test = get_ssf_table( tm_test,'tm')"
   ]
  },
  {
   "cell_type": "code",
   "execution_count": 6,
   "id": "760c43c1",
   "metadata": {},
   "outputs": [
    {
     "data": {
      "text/html": [
       "<div>\n",
       "<style scoped>\n",
       "    .dataframe tbody tr th:only-of-type {\n",
       "        vertical-align: middle;\n",
       "    }\n",
       "\n",
       "    .dataframe tbody tr th {\n",
       "        vertical-align: top;\n",
       "    }\n",
       "\n",
       "    .dataframe thead th {\n",
       "        text-align: right;\n",
       "    }\n",
       "</style>\n",
       "<table border=\"1\" class=\"dataframe\">\n",
       "  <thead>\n",
       "    <tr style=\"text-align: right;\">\n",
       "      <th></th>\n",
       "      <th>tm</th>\n",
       "      <th>AAC_A</th>\n",
       "      <th>AAC_C</th>\n",
       "      <th>AAC_D</th>\n",
       "      <th>AAC_E</th>\n",
       "      <th>AAC_F</th>\n",
       "      <th>AAC_G</th>\n",
       "      <th>AAC_H</th>\n",
       "      <th>AAC_I</th>\n",
       "      <th>AAC_K</th>\n",
       "      <th>...</th>\n",
       "      <th>_HydrophobicityD2001</th>\n",
       "      <th>_HydrophobicityD2025</th>\n",
       "      <th>_HydrophobicityD2050</th>\n",
       "      <th>_HydrophobicityD2075</th>\n",
       "      <th>_HydrophobicityD2100</th>\n",
       "      <th>_HydrophobicityD3001</th>\n",
       "      <th>_HydrophobicityD3025</th>\n",
       "      <th>_HydrophobicityD3050</th>\n",
       "      <th>_HydrophobicityD3075</th>\n",
       "      <th>_HydrophobicityD3100</th>\n",
       "    </tr>\n",
       "  </thead>\n",
       "  <tbody>\n",
       "    <tr>\n",
       "      <th>0</th>\n",
       "      <td>66.5</td>\n",
       "      <td>0.064706</td>\n",
       "      <td>0.014706</td>\n",
       "      <td>0.050000</td>\n",
       "      <td>0.076471</td>\n",
       "      <td>0.020588</td>\n",
       "      <td>0.073529</td>\n",
       "      <td>0.035294</td>\n",
       "      <td>0.076471</td>\n",
       "      <td>0.050000</td>\n",
       "      <td>...</td>\n",
       "      <td>1.471</td>\n",
       "      <td>26.765</td>\n",
       "      <td>52.941</td>\n",
       "      <td>77.059</td>\n",
       "      <td>100.000</td>\n",
       "      <td>0.294</td>\n",
       "      <td>23.824</td>\n",
       "      <td>49.706</td>\n",
       "      <td>70.000</td>\n",
       "      <td>98.824</td>\n",
       "    </tr>\n",
       "    <tr>\n",
       "      <th>1</th>\n",
       "      <td>62.1</td>\n",
       "      <td>0.105263</td>\n",
       "      <td>0.026316</td>\n",
       "      <td>0.078947</td>\n",
       "      <td>0.078947</td>\n",
       "      <td>0.026316</td>\n",
       "      <td>0.036842</td>\n",
       "      <td>0.021053</td>\n",
       "      <td>0.031579</td>\n",
       "      <td>0.031579</td>\n",
       "      <td>...</td>\n",
       "      <td>4.211</td>\n",
       "      <td>28.947</td>\n",
       "      <td>56.316</td>\n",
       "      <td>71.053</td>\n",
       "      <td>99.474</td>\n",
       "      <td>0.526</td>\n",
       "      <td>21.579</td>\n",
       "      <td>47.368</td>\n",
       "      <td>75.789</td>\n",
       "      <td>100.000</td>\n",
       "    </tr>\n",
       "    <tr>\n",
       "      <th>2</th>\n",
       "      <td>69.2</td>\n",
       "      <td>0.096154</td>\n",
       "      <td>0.000000</td>\n",
       "      <td>0.038462</td>\n",
       "      <td>0.141026</td>\n",
       "      <td>0.006410</td>\n",
       "      <td>0.044872</td>\n",
       "      <td>0.006410</td>\n",
       "      <td>0.057692</td>\n",
       "      <td>0.108974</td>\n",
       "      <td>...</td>\n",
       "      <td>1.282</td>\n",
       "      <td>11.538</td>\n",
       "      <td>44.231</td>\n",
       "      <td>68.590</td>\n",
       "      <td>99.359</td>\n",
       "      <td>9.615</td>\n",
       "      <td>33.333</td>\n",
       "      <td>63.462</td>\n",
       "      <td>84.615</td>\n",
       "      <td>98.718</td>\n",
       "    </tr>\n",
       "    <tr>\n",
       "      <th>3</th>\n",
       "      <td>67.3</td>\n",
       "      <td>0.042471</td>\n",
       "      <td>0.007722</td>\n",
       "      <td>0.057915</td>\n",
       "      <td>0.073359</td>\n",
       "      <td>0.046332</td>\n",
       "      <td>0.073359</td>\n",
       "      <td>0.011583</td>\n",
       "      <td>0.077220</td>\n",
       "      <td>0.081081</td>\n",
       "      <td>...</td>\n",
       "      <td>1.544</td>\n",
       "      <td>26.255</td>\n",
       "      <td>49.035</td>\n",
       "      <td>75.676</td>\n",
       "      <td>98.842</td>\n",
       "      <td>0.386</td>\n",
       "      <td>16.216</td>\n",
       "      <td>46.332</td>\n",
       "      <td>73.745</td>\n",
       "      <td>100.000</td>\n",
       "    </tr>\n",
       "    <tr>\n",
       "      <th>4</th>\n",
       "      <td>63.7</td>\n",
       "      <td>0.071429</td>\n",
       "      <td>0.005495</td>\n",
       "      <td>0.071429</td>\n",
       "      <td>0.082418</td>\n",
       "      <td>0.049451</td>\n",
       "      <td>0.043956</td>\n",
       "      <td>0.021978</td>\n",
       "      <td>0.120879</td>\n",
       "      <td>0.087912</td>\n",
       "      <td>...</td>\n",
       "      <td>2.747</td>\n",
       "      <td>19.231</td>\n",
       "      <td>50.000</td>\n",
       "      <td>76.923</td>\n",
       "      <td>96.703</td>\n",
       "      <td>0.549</td>\n",
       "      <td>24.176</td>\n",
       "      <td>48.352</td>\n",
       "      <td>71.429</td>\n",
       "      <td>99.451</td>\n",
       "    </tr>\n",
       "  </tbody>\n",
       "</table>\n",
       "<p>5 rows × 1471 columns</p>\n",
       "</div>"
      ],
      "text/plain": [
       "     tm     AAC_A     AAC_C     AAC_D     AAC_E     AAC_F     AAC_G     AAC_H  \\\n",
       "0  66.5  0.064706  0.014706  0.050000  0.076471  0.020588  0.073529  0.035294   \n",
       "1  62.1  0.105263  0.026316  0.078947  0.078947  0.026316  0.036842  0.021053   \n",
       "2  69.2  0.096154  0.000000  0.038462  0.141026  0.006410  0.044872  0.006410   \n",
       "3  67.3  0.042471  0.007722  0.057915  0.073359  0.046332  0.073359  0.011583   \n",
       "4  63.7  0.071429  0.005495  0.071429  0.082418  0.049451  0.043956  0.021978   \n",
       "\n",
       "      AAC_I     AAC_K  ...  _HydrophobicityD2001  _HydrophobicityD2025  \\\n",
       "0  0.076471  0.050000  ...                 1.471                26.765   \n",
       "1  0.031579  0.031579  ...                 4.211                28.947   \n",
       "2  0.057692  0.108974  ...                 1.282                11.538   \n",
       "3  0.077220  0.081081  ...                 1.544                26.255   \n",
       "4  0.120879  0.087912  ...                 2.747                19.231   \n",
       "\n",
       "   _HydrophobicityD2050  _HydrophobicityD2075  _HydrophobicityD2100  \\\n",
       "0                52.941                77.059               100.000   \n",
       "1                56.316                71.053                99.474   \n",
       "2                44.231                68.590                99.359   \n",
       "3                49.035                75.676                98.842   \n",
       "4                50.000                76.923                96.703   \n",
       "\n",
       "   _HydrophobicityD3001  _HydrophobicityD3025  _HydrophobicityD3050  \\\n",
       "0                 0.294                23.824                49.706   \n",
       "1                 0.526                21.579                47.368   \n",
       "2                 9.615                33.333                63.462   \n",
       "3                 0.386                16.216                46.332   \n",
       "4                 0.549                24.176                48.352   \n",
       "\n",
       "   _HydrophobicityD3075  _HydrophobicityD3100  \n",
       "0                70.000                98.824  \n",
       "1                75.789               100.000  \n",
       "2                84.615                98.718  \n",
       "3                73.745               100.000  \n",
       "4                71.429                99.451  \n",
       "\n",
       "[5 rows x 1471 columns]"
      ]
     },
     "execution_count": 6,
     "metadata": {},
     "output_type": "execute_result"
    }
   ],
   "source": [
    "tm_ssf_test.head()"
   ]
  },
  {
   "cell_type": "markdown",
   "id": "e270e09b",
   "metadata": {},
   "source": [
    "# Pearson Correlation"
   ]
  },
  {
   "cell_type": "code",
   "execution_count": 7,
   "id": "09a014f4",
   "metadata": {},
   "outputs": [],
   "source": [
    "topt_ssf = pd.concat([topt_ssf_train,topt_ssf_test])\n",
    "phopt_ssf = pd.concat([phopt_ssf_train, phopt_ssf_test])\n",
    "tm_ssf = pd.concat([tm_ssf_train, tm_ssf_test])"
   ]
  },
  {
   "cell_type": "code",
   "execution_count": 10,
   "id": "a8c1835f",
   "metadata": {},
   "outputs": [
    {
     "name": "stderr",
     "output_type": "stream",
     "text": [
      "/home/bras5181/miniconda3/lib/python3.8/site-packages/scipy/stats/_stats_py.py:4424: ConstantInputWarning: An input array is constant; the correlation coefficient is not defined.\n",
      "  warnings.warn(stats.ConstantInputWarning(msg))\n"
     ]
    },
    {
     "name": "stdout",
     "output_type": "stream",
     "text": [
      "503\n"
     ]
    }
   ],
   "source": [
    "pv_cut = 0.01\n",
    "sigf_topt = []; sigf_phopt = []; sigf_tm = []\n",
    "for i in range(1,len(topt_ssf.columns)):\n",
    "    res = pearsonr( list(topt_ssf[topt_ssf.columns[i]]), list(topt_ssf.topt) )\n",
    "    if res.pvalue <= pv_cut:\n",
    "        sigf_topt.append(topt_ssf.columns[i])\n",
    "\n",
    "for i in range(1,len(phopt_ssf.columns)):\n",
    "    res = pearsonr( list(phopt_ssf[phopt_ssf.columns[i]]), list(phopt_ssf.pHopt) )\n",
    "    if res.pvalue <= pv_cut:\n",
    "        sigf_phopt.append(phopt_ssf.columns[i])\n",
    "\n",
    "for i in range(1,len(tm_ssf.columns)):\n",
    "    res = pearsonr( list(tm_ssf[tm_ssf.columns[i]]), list(tm_ssf.tm) )\n",
    "    if res.pvalue <= pv_cut:\n",
    "        sigf_tm.append(tm_ssf.columns[i])\n",
    "sigfeatures = list ( set(sigf_topt)&set(sigf_phopt)&set(sigf_tm) )\n",
    "sigfeatures = sorted(sigfeatures)\n",
    "print(len(sigfeatures))\n",
    "# dump_pickle(sigfeatures,'../data/sig_ssfs.pkl')"
   ]
  },
  {
   "cell_type": "markdown",
   "id": "34b3b970",
   "metadata": {},
   "source": [
    "# Save ssf as ndarray"
   ]
  },
  {
   "cell_type": "code",
   "execution_count": 15,
   "id": "b23d1b5d",
   "metadata": {},
   "outputs": [],
   "source": [
    "sigfeatures = list( load_pickle('../data/sig_ssfs.pkl') )\n",
    "topt_ssf_train = topt_ssf_train[sigfeatures]\n",
    "topt_ssf_test = topt_ssf_test[sigfeatures]\n",
    "phopt_ssf_train = phopt_ssf_train[sigfeatures]\n",
    "phopt_ssf_test = phopt_ssf_test[sigfeatures]\n",
    "tm_ssf_train = tm_ssf_train[sigfeatures]\n",
    "tm_ssf_test = tm_ssf_test[sigfeatures]\n",
    "\n",
    "# dump_pickle(topt_ssf_train.values,'../data/Topt/train_ssf.pkl')\n",
    "# dump_pickle(topt_ssf_test.values,'../data/Topt/test_ssf.pkl')\n",
    "# dump_pickle(phopt_ssf_train.values,'../data/pHopt/train_ssf.pkl')\n",
    "# dump_pickle(phopt_ssf_test.values,'../data/pHopt/test_ssf.pkl')\n",
    "# dump_pickle(tm_ssf_train.values,'../data/Tm/train_ssf.pkl')\n",
    "# dump_pickle(tm_ssf_test.values,'../data/Tm/test_ssf.pkl')"
   ]
  },
  {
   "cell_type": "markdown",
   "id": "2804f7a1",
   "metadata": {},
   "source": [
    "# PCA"
   ]
  },
  {
   "cell_type": "code",
   "execution_count": 44,
   "id": "e6297397",
   "metadata": {},
   "outputs": [],
   "source": [
    "sigfeatures = list( load_pickle('../data/sig_ssfs.pkl') )\n",
    "topt_ssf = topt_ssf[['topt']+sigfeatures]\n",
    "phopt_ssf = phopt_ssf[['pHopt']+sigfeatures]\n",
    "tm_ssf = tm_ssf[['tm']+sigfeatures]"
   ]
  },
  {
   "cell_type": "code",
   "execution_count": 45,
   "id": "69be2a0f",
   "metadata": {},
   "outputs": [],
   "source": [
    "X_topt = topt_ssf.iloc[:,1:].values\n",
    "X_topt = StandardScaler().fit_transform(X_topt)\n",
    "\n",
    "X_ph = phopt_ssf.iloc[:,1:].values\n",
    "X_ph = StandardScaler().fit_transform(X_ph)\n",
    "\n",
    "X_tm = tm_ssf.iloc[:,1:].values\n",
    "X_tm = StandardScaler().fit_transform(X_tm)"
   ]
  },
  {
   "cell_type": "code",
   "execution_count": 46,
   "id": "1e9b5d26",
   "metadata": {},
   "outputs": [
    {
     "name": "stdout",
     "output_type": "stream",
     "text": [
      "Topt:\n",
      "[0.08140898 0.05864385]\n",
      "pHopt:\n",
      "[0.06641301 0.04667219]\n",
      "Tm:\n",
      "[0.05993128 0.04868127]\n"
     ]
    }
   ],
   "source": [
    "pca_topt = PCA(n_components=2)\n",
    "topt_pc = pca_topt.fit_transform(X_topt)\n",
    "print('Topt:'); print(pca_topt.explained_variance_ratio_)\n",
    "\n",
    "pca_ph = PCA(n_components=2)\n",
    "ph_pc = pca_ph.fit_transform(X_ph)\n",
    "print('pHopt:'); print(pca_ph.explained_variance_ratio_)\n",
    "\n",
    "pca_tm = PCA(n_components=2)\n",
    "tm_pc = pca_tm.fit_transform(X_tm)\n",
    "print('Tm:'); print(pca_tm.explained_variance_ratio_)"
   ]
  },
  {
   "cell_type": "code",
   "execution_count": null,
   "id": "bf181abf",
   "metadata": {},
   "outputs": [],
   "source": [
    "# low explained variance"
   ]
  },
  {
   "cell_type": "markdown",
   "id": "8c7e35f4",
   "metadata": {},
   "source": [
    "# code test"
   ]
  },
  {
   "cell_type": "code",
   "execution_count": 16,
   "id": "f52a05b0",
   "metadata": {},
   "outputs": [],
   "source": [
    "train_ssf = load_pickle('../data/Topt/train_ssf.pkl'); test_ssf = load_pickle('../data/Topt/test_ssf.pkl')\n",
    "sig_ssfs = list( load_pickle('../data/sig_ssfs.pkl') )\n",
    "train_ssf = train_ssf[sig_ssfs]; test_ssf = test_ssf[sig_ssfs]\n",
    "train_data = pd.read_csv('../data/Topt/train_os.csv')"
   ]
  },
  {
   "cell_type": "code",
   "execution_count": 22,
   "id": "478419db",
   "metadata": {},
   "outputs": [],
   "source": [
    "train_pack = [np.array(train_data.uniprot_id), np.array(train_data.sequence), train_ssf.values, \\\n",
    "              np.array( rescale_targets(list(train_data['topt']),120, 0 )) ];"
   ]
  },
  {
   "cell_type": "code",
   "execution_count": 23,
   "id": "e38665d6",
   "metadata": {},
   "outputs": [],
   "source": [
    "def split_data( data, ratio=0.1):\n",
    "    idx = np.arange(len( data[0]))\n",
    "    np.random.shuffle(idx)\n",
    "    num_split = int(len(data[0]) * ratio)\n",
    "    idx_1, idx_0 = idx[:num_split], idx[num_split:]\n",
    "    data_0 = [ data[di][idx_0] for di in range(len(data))]\n",
    "    data_1 = [ data[di][idx_1] for di in range(len(data))]\n",
    "    return data_0, data_1"
   ]
  },
  {
   "cell_type": "code",
   "execution_count": 24,
   "id": "506c3b73",
   "metadata": {},
   "outputs": [],
   "source": [
    "train_pack, dev_pack = split_data( train_pack, 0.1)"
   ]
  },
  {
   "cell_type": "code",
   "execution_count": 33,
   "id": "8d24c079",
   "metadata": {},
   "outputs": [],
   "source": [
    "idx = np.arange(len(train_pack[0]))\n",
    "i=10; min_size=4\n",
    "batch_data = [train_pack[di][idx[ i* min_size: (i + 1) * min_size]] for di in range(len(train_pack))]"
   ]
  },
  {
   "cell_type": "code",
   "execution_count": 35,
   "id": "cbe6fdeb",
   "metadata": {},
   "outputs": [],
   "source": [
    "ids, seqs, ssfs, targets = batch_data"
   ]
  },
  {
   "cell_type": "code",
   "execution_count": 38,
   "id": "e551455e",
   "metadata": {},
   "outputs": [],
   "source": [
    "target_values = torch.FloatTensor( np.array( [ np.array([v]) for v in targets ] ) )"
   ]
  },
  {
   "cell_type": "code",
   "execution_count": 44,
   "id": "6ddfba76",
   "metadata": {},
   "outputs": [
    {
     "data": {
      "text/plain": [
       "torch.Size([4, 1])"
      ]
     },
     "execution_count": 44,
     "metadata": {},
     "output_type": "execute_result"
    }
   ],
   "source": [
    "target_values.size()"
   ]
  },
  {
   "cell_type": "code",
   "execution_count": 40,
   "id": "171e853c",
   "metadata": {},
   "outputs": [],
   "source": [
    "temp = torch.FloatTensor( ssfs )"
   ]
  },
  {
   "cell_type": "code",
   "execution_count": null,
   "id": "c57fc96e",
   "metadata": {},
   "outputs": [],
   "source": []
  }
 ],
 "metadata": {
  "kernelspec": {
   "display_name": "Python 3 (ipykernel)",
   "language": "python",
   "name": "python3"
  },
  "language_info": {
   "codemirror_mode": {
    "name": "ipython",
    "version": 3
   },
   "file_extension": ".py",
   "mimetype": "text/x-python",
   "name": "python",
   "nbconvert_exporter": "python",
   "pygments_lexer": "ipython3",
   "version": "3.8.10"
  }
 },
 "nbformat": 4,
 "nbformat_minor": 5
}
