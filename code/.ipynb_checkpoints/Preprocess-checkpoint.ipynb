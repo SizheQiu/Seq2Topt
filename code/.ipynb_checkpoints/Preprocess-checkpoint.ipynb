{
 "cells": [
  {
   "cell_type": "code",
   "execution_count": 1,
   "id": "ad1a0e73",
   "metadata": {},
   "outputs": [],
   "source": [
    "import numpy as np\n",
    "import pandas as pd\n",
    "from matplotlib import pyplot as plt\n",
    "import seaborn as sns\n",
    "import pickle\n",
    "from math import exp\n",
    "import random\n",
    "import re\n",
    "from Bio import SeqIO\n",
    "from Bio.Seq import Seq\n",
    "from Bio.SeqRecord import SeqRecord\n",
    "from functions import *\n",
    "import os\n",
    "import requests"
   ]
  },
  {
   "cell_type": "code",
   "execution_count": 2,
   "id": "f3d3bff3",
   "metadata": {},
   "outputs": [],
   "source": [
    "def apply_mutations(seq, mut_list):\n",
    "    mut_seq = seq\n",
    "    for mut in mut_list:\n",
    "        ind = int(mut[1:-1])-1\n",
    "        new = mut[-1].upper()\n",
    "        temp_list = list(mut_seq)\n",
    "        temp_list[ind] = new\n",
    "        mut_seq = ''.join(temp_list)\n",
    "    return mut_seq"
   ]
  },
  {
   "cell_type": "markdown",
   "id": "d9bb5c33",
   "metadata": {},
   "source": [
    "# Topt: dataset split"
   ]
  },
  {
   "cell_type": "code",
   "execution_count": 2,
   "id": "c3ab2457",
   "metadata": {},
   "outputs": [],
   "source": [
    "topt_data = pd.read_csv('../data/Topt/sequence_ogt_topt.csv') # obtained from TOMER (https://doi.org/10.1021/acs.jcim.0c00489)\n",
    "topt_data = topt_data[['uniprot_id','topt','sequence']]"
   ]
  },
  {
   "cell_type": "code",
   "execution_count": 3,
   "id": "473ac7e8",
   "metadata": {},
   "outputs": [],
   "source": [
    "def split_table( table, ratio ):\n",
    "    idx=list(table.index)\n",
    "    np.random.shuffle(idx)\n",
    "    num_split = int( len(idx) * ratio)\n",
    "    idx_test, idx_train = idx[:num_split], idx[num_split:]\n",
    "    train_table = (table.iloc[idx_train]).reset_index().drop(['index'],axis=1)\n",
    "    test_table = (table.iloc[idx_test]).reset_index().drop(['index'],axis=1)\n",
    "    return train_table,test_table"
   ]
  },
  {
   "cell_type": "code",
   "execution_count": 7,
   "id": "538324ab",
   "metadata": {},
   "outputs": [],
   "source": [
    "train, test = split_table(topt_data, ratio=0.1)"
   ]
  },
  {
   "cell_type": "code",
   "execution_count": 8,
   "id": "1728c79a",
   "metadata": {},
   "outputs": [],
   "source": [
    "# train.to_csv('../data/train.csv',index=None)\n",
    "# test.to_csv('../data/test.csv',index=None)"
   ]
  },
  {
   "cell_type": "code",
   "execution_count": 10,
   "id": "55a92b87",
   "metadata": {},
   "outputs": [],
   "source": [
    "# fig, axs = plt.subplots(1,2, figsize=(10,4))\n",
    "# axs[0].hist(train['topt'])\n",
    "# axs[1].hist(test['topt'])"
   ]
  },
  {
   "cell_type": "code",
   "execution_count": 8,
   "id": "e1e8a0b6",
   "metadata": {},
   "outputs": [],
   "source": [
    "train = pd.read_csv('../data/Topt/train.csv'); test=pd.read_csv('../data/Topt/test.csv');"
   ]
  },
  {
   "cell_type": "code",
   "execution_count": 9,
   "id": "b1a08367",
   "metadata": {},
   "outputs": [],
   "source": [
    "# Oversampling for T >= 80 C\n",
    "# train_os = train.copy()\n",
    "# high_ot = (train[train['topt']>=80]).reset_index().drop(['index'],axis=1)\n",
    "# over_high = []\n",
    "# for i in range( len(high_ot.index) ):\n",
    "#     rand_idx = np.random.randint( len( high_ot.index ) - 1,size=1)[0]\n",
    "#     temp_data = dict( high_ot.iloc[rand_idx] )\n",
    "#     over_high.append( temp_data )\n",
    "# over_pd = pd.DataFrame(over_high)\n",
    "# train_os = ( pd.concat([ train_os, over_pd]) ).reset_index().drop(['index'],axis=1)\n",
    "# train_os.to_csv('../data/train_os.csv',index=None)"
   ]
  },
  {
   "cell_type": "code",
   "execution_count": 10,
   "id": "de721a46",
   "metadata": {},
   "outputs": [],
   "source": [
    "train_os = pd.read_csv('../data/Topt/train_os.csv')"
   ]
  },
  {
   "cell_type": "code",
   "execution_count": 11,
   "id": "eff496b8",
   "metadata": {},
   "outputs": [
    {
     "data": {
      "image/png": "[encoded data removed]",
      "text/plain": [
       "<Figure size 720x288 with 2 Axes>"
      ]
     },
     "metadata": {
      "needs_background": "light"
     },
     "output_type": "display_data"
    }
   ],
   "source": [
    "fig, axs = plt.subplots(1,2, figsize=(10,4))\n",
    "axs[0].hist(train['topt'],alpha=1,label='Original');\n",
    "axs[0].hist(train_os['topt'],alpha=0.7, histtype='barstacked',rwidth=0.7, label='Oversampled')\n",
    "axs[0].set_title('Train set')\n",
    "axs[1].hist(test['topt'], bins=10, color='tab:purple', label='Test set');\n",
    "axs[1].set_title('Test set')\n",
    "for ax in axs:\n",
    "    ax.set_xlabel('Topt(\\u2103)')\n",
    "    ax.set_ylabel('Count')\n",
    "    ax.legend()"
   ]
  },
  {
   "cell_type": "code",
   "execution_count": 22,
   "id": "d6dcd73f",
   "metadata": {},
   "outputs": [
    {
     "name": "stdout",
     "output_type": "stream",
     "text": [
      "2829\n",
      "291\n"
     ]
    }
   ],
   "source": [
    "print(len(train_os.index))\n",
    "print(len(test.index))"
   ]
  },
  {
   "cell_type": "code",
   "execution_count": 2,
   "id": "6b129324",
   "metadata": {},
   "outputs": [
    {
     "data": {
      "text/html": [
       "<div>\n",
       "<style scoped>\n",
       "    .dataframe tbody tr th:only-of-type {\n",
       "        vertical-align: middle;\n",
       "    }\n",
       "\n",
       "    .dataframe tbody tr th {\n",
       "        vertical-align: top;\n",
       "    }\n",
       "\n",
       "    .dataframe thead th {\n",
       "        text-align: right;\n",
       "    }\n",
       "</style>\n",
       "<table border=\"1\" class=\"dataframe\">\n",
       "  <thead>\n",
       "    <tr style=\"text-align: right;\">\n",
       "      <th></th>\n",
       "      <th>Unnamed: 0</th>\n",
       "      <th>uniprot_id</th>\n",
       "      <th>ogt</th>\n",
       "      <th>topt</th>\n",
       "      <th>sequence</th>\n",
       "    </tr>\n",
       "  </thead>\n",
       "  <tbody>\n",
       "    <tr>\n",
       "      <th>0</th>\n",
       "      <td>0</td>\n",
       "      <td>P43408</td>\n",
       "      <td>85</td>\n",
       "      <td>70.0</td>\n",
       "      <td>MKNKVVVVTGVPGVGGTTLTQKTIEKLKEEGIEYKMVNFGTVMFEV...</td>\n",
       "    </tr>\n",
       "    <tr>\n",
       "      <th>1</th>\n",
       "      <td>1</td>\n",
       "      <td>Q89GR3</td>\n",
       "      <td>26</td>\n",
       "      <td>30.0</td>\n",
       "      <td>MNLAIVEAPADSTPPPADPLDHLADALFHEMGSPGVYGRTALYEDV...</td>\n",
       "    </tr>\n",
       "    <tr>\n",
       "      <th>2</th>\n",
       "      <td>2</td>\n",
       "      <td>Q60352</td>\n",
       "      <td>80</td>\n",
       "      <td>37.0</td>\n",
       "      <td>MLTILKLGGSILSDKNVPYSIKWDNLERIAMEIKNALDYYKNQNKE...</td>\n",
       "    </tr>\n",
       "    <tr>\n",
       "      <th>3</th>\n",
       "      <td>3</td>\n",
       "      <td>Q97X08</td>\n",
       "      <td>74</td>\n",
       "      <td>80.0</td>\n",
       "      <td>MIMNKLYIIIVPIIVIIVVGVIGGAIYLHHQSPNVKTSSITVTTNE...</td>\n",
       "    </tr>\n",
       "    <tr>\n",
       "      <th>4</th>\n",
       "      <td>4</td>\n",
       "      <td>Q7B8C4</td>\n",
       "      <td>30</td>\n",
       "      <td>37.0</td>\n",
       "      <td>MTVKKLYFIPAGRCMLDHSSVNSTLTPGNLLNLPVWCYLLETEEGP...</td>\n",
       "    </tr>\n",
       "  </tbody>\n",
       "</table>\n",
       "</div>"
      ],
      "text/plain": [
       "   Unnamed: 0 uniprot_id  ogt  topt  \\\n",
       "0           0     P43408   85  70.0   \n",
       "1           1     Q89GR3   26  30.0   \n",
       "2           2     Q60352   80  37.0   \n",
       "3           3     Q97X08   74  80.0   \n",
       "4           4     Q7B8C4   30  37.0   \n",
       "\n",
       "                                            sequence  \n",
       "0  MKNKVVVVTGVPGVGGTTLTQKTIEKLKEEGIEYKMVNFGTVMFEV...  \n",
       "1  MNLAIVEAPADSTPPPADPLDHLADALFHEMGSPGVYGRTALYEDV...  \n",
       "2  MLTILKLGGSILSDKNVPYSIKWDNLERIAMEIKNALDYYKNQNKE...  \n",
       "3  MIMNKLYIIIVPIIVIIVVGVIGGAIYLHHQSPNVKTSSITVTTNE...  \n",
       "4  MTVKKLYFIPAGRCMLDHSSVNSTLTPGNLLNLPVWCYLLETEEGP...  "
      ]
     },
     "execution_count": 2,
     "metadata": {},
     "output_type": "execute_result"
    }
   ],
   "source": [
    "topt_data = pd.read_csv('../data/Topt/sequence_ogt_topt.csv') \n",
    "topt_data.head()"
   ]
  },
  {
   "cell_type": "code",
   "execution_count": 86,
   "id": "3084d8ea",
   "metadata": {},
   "outputs": [],
   "source": [
    "def get_protinfo(uniprot_id):\n",
    "    url = f\"https://rest.uniprot.org/uniprotkb/{uniprot_id}.json\"\n",
    "    response = requests.get(url)\n",
    "    data = response.json()\n",
    "    if 'organism' in data.keys():\n",
    "        organism = data['organism']['scientificName'].split('(')[0].strip()\n",
    "    else:\n",
    "        organism = 'unknown'\n",
    "        \n",
    "    if 'proteinDescription' in data.keys():\n",
    "        description = data['proteinDescription']\n",
    "        if 'recommendedName' in description.keys():\n",
    "            recName_data = data['proteinDescription']['recommendedName']\n",
    "            if 'ecNumbers' in recName_data.keys():\n",
    "                ec = recName_data['ecNumbers'][0]['value'].strip()\n",
    "            elif 'alternativeNames' in description.keys():\n",
    "                altName_data = data['proteinDescription']['alternativeNames']\n",
    "                if 'ecNumbers' in altName_data[0].keys():\n",
    "                    ec = altName_data[0]['ecNumbers'][0]['value'].strip()\n",
    "                else:\n",
    "                    ec='unknown'\n",
    "            else:\n",
    "                ec='unknown'\n",
    "        elif 'submissionNames' in description.keys():\n",
    "            if 'ecNumbers' in data['proteinDescription']['submissionNames'][0].keys():\n",
    "                ec = data['proteinDescription']['submissionNames'][0]['ecNumbers'][0]['value'].strip()\n",
    "            else:\n",
    "                ec='unknown'\n",
    "    else:\n",
    "        ec='unknown'\n",
    "        \n",
    "    return {'uniprot_id':uniprot_id, 'ec':ec,'organism':organism}"
   ]
  },
  {
   "cell_type": "code",
   "execution_count": 87,
   "id": "343aa7da",
   "metadata": {},
   "outputs": [],
   "source": [
    "enz_info = []\n",
    "for prot_id in list(topt_data['uniprot_id']):\n",
    "    enz_info.append( get_protinfo(prot_id) )"
   ]
  },
  {
   "cell_type": "code",
   "execution_count": 89,
   "id": "b9705df6",
   "metadata": {},
   "outputs": [
    {
     "data": {
      "text/html": [
       "<div>\n",
       "<style scoped>\n",
       "    .dataframe tbody tr th:only-of-type {\n",
       "        vertical-align: middle;\n",
       "    }\n",
       "\n",
       "    .dataframe tbody tr th {\n",
       "        vertical-align: top;\n",
       "    }\n",
       "\n",
       "    .dataframe thead th {\n",
       "        text-align: right;\n",
       "    }\n",
       "</style>\n",
       "<table border=\"1\" class=\"dataframe\">\n",
       "  <thead>\n",
       "    <tr style=\"text-align: right;\">\n",
       "      <th></th>\n",
       "      <th>uniprot_id</th>\n",
       "      <th>ec</th>\n",
       "      <th>organism</th>\n",
       "    </tr>\n",
       "  </thead>\n",
       "  <tbody>\n",
       "    <tr>\n",
       "      <th>0</th>\n",
       "      <td>P43408</td>\n",
       "      <td>2.7.4.3</td>\n",
       "      <td>Methanotorris igneus</td>\n",
       "    </tr>\n",
       "    <tr>\n",
       "      <th>1</th>\n",
       "      <td>Q89GR3</td>\n",
       "      <td>6.2.1.n2</td>\n",
       "      <td>Bradyrhizobium diazoefficiens</td>\n",
       "    </tr>\n",
       "    <tr>\n",
       "      <th>2</th>\n",
       "      <td>Q60352</td>\n",
       "      <td>2.7.4.26</td>\n",
       "      <td>Methanocaldococcus jannaschii</td>\n",
       "    </tr>\n",
       "    <tr>\n",
       "      <th>3</th>\n",
       "      <td>Q97X08</td>\n",
       "      <td>3.2.1.4</td>\n",
       "      <td>Saccharolobus solfataricus</td>\n",
       "    </tr>\n",
       "    <tr>\n",
       "      <th>4</th>\n",
       "      <td>Q7B8C4</td>\n",
       "      <td>3.1.1.81</td>\n",
       "      <td>Bacillus thuringiensis subsp. darmstadiensis</td>\n",
       "    </tr>\n",
       "  </tbody>\n",
       "</table>\n",
       "</div>"
      ],
      "text/plain": [
       "  uniprot_id        ec                                      organism\n",
       "0     P43408   2.7.4.3                          Methanotorris igneus\n",
       "1     Q89GR3  6.2.1.n2                 Bradyrhizobium diazoefficiens\n",
       "2     Q60352  2.7.4.26                 Methanocaldococcus jannaschii\n",
       "3     Q97X08   3.2.1.4                    Saccharolobus solfataricus\n",
       "4     Q7B8C4  3.1.1.81  Bacillus thuringiensis subsp. darmstadiensis"
      ]
     },
     "execution_count": 89,
     "metadata": {},
     "output_type": "execute_result"
    }
   ],
   "source": [
    "enz_info = []\n",
    "for prot_id in list(topt_data['uniprot_id']):\n",
    "    enz_info.append( get_protinfo(prot_id) )\n",
    "einfo_pd = pd.DataFrame(enz_info)\n",
    "einfo_pd.to_csv('../data/Topt/topt_enzinfo.csv',index=None)\n",
    "einfo_pd.head()"
   ]
  },
  {
   "cell_type": "markdown",
   "id": "69ec98ef",
   "metadata": {},
   "source": [
    "## prep input for preoptem"
   ]
  },
  {
   "cell_type": "code",
   "execution_count": 7,
   "id": "f342cb0e",
   "metadata": {},
   "outputs": [
    {
     "data": {
      "text/plain": [
       "291"
      ]
     },
     "execution_count": 7,
     "metadata": {},
     "output_type": "execute_result"
    }
   ],
   "source": [
    "test=pd.read_csv('../data/Topt/test.csv');\n",
    "records = []\n",
    "for i in range(len(test.index)):\n",
    "    records.append( SeqRecord( Seq(list(test['sequence'])[i]), \n",
    "                              id =list(test['uniprot_id'])[i], description='' ) )\n",
    "SeqIO.write(records,'../data/test_preoptem.fasta',\"fasta\")"
   ]
  },
  {
   "cell_type": "markdown",
   "id": "9bd93679",
   "metadata": {},
   "source": [
    "# pHopt"
   ]
  },
  {
   "cell_type": "code",
   "execution_count": 3,
   "id": "9430a3dc",
   "metadata": {},
   "outputs": [],
   "source": [
    "# train_records = SeqIO.parse( '../data/pHopt/phopt_training.fasta' , \"fasta\")\n",
    "# val_records = SeqIO.parse( '../data/pHopt/phopt_validation.fasta' , \"fasta\")\n",
    "# test_records = SeqIO.parse( '../data/pHopt/phopt_testing.fasta' , \"fasta\")\n",
    "# def records_to_table(records):\n",
    "#     data = []\n",
    "#     for record in records:\n",
    "#         temp = {'uniprot_id':str(record.id).strip(),'sequence':str(record.seq)}\n",
    "#         temp['pHopt'] = float( record.description.split('|')[3] )\n",
    "#         temp['EC'] = record.description.split('|')[2].strip()\n",
    "#         temp['Organism'] = record.description.split('|')[1].strip()\n",
    "#         data.append(temp)\n",
    "#     table = pd.DataFrame(data)\n",
    "#     return table"
   ]
  },
  {
   "cell_type": "code",
   "execution_count": 4,
   "id": "954f17cd",
   "metadata": {},
   "outputs": [],
   "source": [
    "# train_set = records_to_table(train_records)\n",
    "# val_set = records_to_table(val_records)\n",
    "# test_set = records_to_table(test_records)\n",
    "# train_data = pd.concat([train_set, val_set])"
   ]
  },
  {
   "cell_type": "code",
   "execution_count": 36,
   "id": "ab81a432",
   "metadata": {},
   "outputs": [],
   "source": [
    "# train_data.to_csv('../data/pHopt/train_pH.csv',index=None)\n",
    "# test_set.to_csv('../data/pHopt/test_pH.csv',index=None)"
   ]
  },
  {
   "cell_type": "markdown",
   "id": "892f2a00",
   "metadata": {},
   "source": [
    "# Tm from Meltome atlas"
   ]
  },
  {
   "cell_type": "code",
   "execution_count": 13,
   "id": "62ff9051",
   "metadata": {},
   "outputs": [],
   "source": [
    "filenames = os.listdir('../../meltome_data/')\n",
    "Tm_data = pd.DataFrame(columns=['Protein ID', 'simple_fasta', 'Species', 'Tm'])\n",
    "for file in filenames:\n",
    "    temp = pd.read_csv('../../meltome_data/'+file)\n",
    "    temp = temp[['Protein ID', 'simple_fasta', 'Species', 'Tm']]\n",
    "    Tm_data = pd.concat([Tm_data,temp])\n",
    "Tm_data = Tm_data.dropna()\n",
    "Tm_data = Tm_data.rename(columns={'simple_fasta': 'sequence','Tm':'tm'})\n",
    "Tm_data = Tm_data.reset_index().drop(['index'],axis=1)\n",
    "# Tm_data.to_csv('../data/Tm/Tm_raw.csv',index=None)"
   ]
  },
  {
   "cell_type": "code",
   "execution_count": 38,
   "id": "956dbeed",
   "metadata": {},
   "outputs": [],
   "source": [
    "Tm_data = pd.read_csv('../data/Tm/Tm_raw.csv')\n",
    "train, test = split_table(Tm_data, ratio=0.1)\n",
    "# train.to_csv('../data/Tm/train_tm.csv',index=None)\n",
    "# test.to_csv('../data/Tm/test_tm.csv',index=None)"
   ]
  },
  {
   "cell_type": "code",
   "execution_count": 41,
   "id": "33ca0ebd",
   "metadata": {},
   "outputs": [],
   "source": [
    "# Oversampling for Tm >= 60 C\n",
    "train_os = train.copy()\n",
    "high_tm = (train[train['tm']>=60]).reset_index().drop(['index'],axis=1)\n",
    "over_high = []\n",
    "for i in range( len(high_tm.index) ):\n",
    "    rand_idx = np.random.randint( len( high_tm.index ) - 1,size=1)[0]\n",
    "    temp_data = dict( high_tm.iloc[rand_idx] )\n",
    "    over_high.append( temp_data )\n",
    "over_pd = pd.DataFrame(over_high)\n",
    "train_os = ( pd.concat([ train_os, over_pd]) ).reset_index().drop(['index'],axis=1)\n",
    "# train_os.to_csv('../data/Tm/train_os_tm.csv',index=None)"
   ]
  },
  {
   "cell_type": "markdown",
   "id": "ca930e93",
   "metadata": {},
   "source": [
    "# Vis datasets for Tm and Topt"
   ]
  },
  {
   "cell_type": "code",
   "execution_count": 3,
   "id": "12ac955f",
   "metadata": {},
   "outputs": [],
   "source": [
    "train_topt = pd.read_csv('../data/Topt/train.csv')\n",
    "train_os_topt = pd.read_csv('../data/Topt/train_os.csv')\n",
    "test_topt = pd.read_csv('../data/Topt/test.csv')\n",
    "\n",
    "train_tm = pd.read_csv('../data/Tm/train_tm.csv')\n",
    "train_os_tm = pd.read_csv('../data/Tm/train_os_tm.csv')\n",
    "test_tm = pd.read_csv('../data/Tm/test_tm.csv')"
   ]
  },
  {
   "cell_type": "code",
   "execution_count": 7,
   "id": "3bae8cde",
   "metadata": {},
   "outputs": [
    {
     "data": {
      "image/png": "[encoded data removed]",
      "text/plain": [
       "<Figure size 1440x360 with 4 Axes>"
      ]
     },
     "metadata": {
      "needs_background": "light"
     },
     "output_type": "display_data"
    }
   ],
   "source": [
    "fig, axs = plt.subplots(1,4, figsize=(20,5))\n",
    "axs[0].hist(train_topt['topt'],alpha=1,label='Original');\n",
    "axs[0].hist(train_os_topt['topt'],alpha=0.7, histtype='barstacked',rwidth=0.7, label='Oversampled')\n",
    "axs[0].set_title('Train set of Topt')\n",
    "axs[1].hist(test_topt['topt'], bins=10, color='tab:purple', label='Test set');\n",
    "axs[1].set_title('Test set of Topt')\n",
    "axs[0].set_xlabel('Topt(\\u2103)')\n",
    "axs[1].set_xlabel('Topt(\\u2103)')\n",
    "\n",
    "axs[2].hist(train_tm['tm'],alpha=1,label='Original');\n",
    "axs[2].hist(train_os_tm['tm'],alpha=0.7, histtype='barstacked',rwidth=0.7, label='Oversampled')\n",
    "axs[2].set_title('Train set of Tm')\n",
    "axs[3].hist(test_tm['tm'], bins=10, color='tab:purple', label='Test set');\n",
    "axs[3].set_title('Test set of Tm')\n",
    "axs[3].set_xlabel('Tm(\\u2103)')\n",
    "axs[3].set_xlabel('Tm(\\u2103)')\n",
    "\n",
    "for i in range(4):\n",
    "        axs[i].legend()"
   ]
  },
  {
   "cell_type": "markdown",
   "id": "395e3a53",
   "metadata": {},
   "source": [
    "# Case study: beta-agarase"
   ]
  },
  {
   "cell_type": "code",
   "execution_count": 4,
   "id": "aaa34e9a",
   "metadata": {},
   "outputs": [],
   "source": [
    "# betaA = pd.read_csv('../data/casestudy/beta_agarase.csv')\n",
    "# seqs = []\n",
    "# for pid in list(betaA['uniprot_id']):\n",
    "#     seq = get_seq(pid)\n",
    "#     seqs.append(seq)\n",
    "# betaA['sequence'] = seqs\n",
    "# betaA.to_csv('../data/casestudy/beta_agarase.csv',index=None)"
   ]
  },
  {
   "cell_type": "markdown",
   "id": "1275857d",
   "metadata": {},
   "source": [
    "# Case study: GDH"
   ]
  },
  {
   "cell_type": "code",
   "execution_count": 28,
   "id": "c7ae4e3f",
   "metadata": {},
   "outputs": [
    {
     "data": {
      "text/html": [
       "<div>\n",
       "<style scoped>\n",
       "    .dataframe tbody tr th:only-of-type {\n",
       "        vertical-align: middle;\n",
       "    }\n",
       "\n",
       "    .dataframe tbody tr th {\n",
       "        vertical-align: top;\n",
       "    }\n",
       "\n",
       "    .dataframe thead th {\n",
       "        text-align: right;\n",
       "    }\n",
       "</style>\n",
       "<table border=\"1\" class=\"dataframe\">\n",
       "  <thead>\n",
       "    <tr style=\"text-align: right;\">\n",
       "      <th></th>\n",
       "      <th>Mutations</th>\n",
       "      <th>topt</th>\n",
       "      <th>reference</th>\n",
       "      <th>sequence</th>\n",
       "    </tr>\n",
       "  </thead>\n",
       "  <tbody>\n",
       "    <tr>\n",
       "      <th>0</th>\n",
       "      <td>WT</td>\n",
       "      <td>68.5</td>\n",
       "      <td>https://doi.org/10.1002/pro.3963</td>\n",
       "      <td>MTKIITSPSKFIQGPDELSRLSAYTERLGKKAFIIADDFVTGLVGK...</td>\n",
       "    </tr>\n",
       "    <tr>\n",
       "      <th>1</th>\n",
       "      <td>D121N</td>\n",
       "      <td>75.0</td>\n",
       "      <td>https://doi.org/10.1002/pro.3963</td>\n",
       "      <td>MTKIITSPSKFIQGPDELSRLSAYTERLGKKAFIIADDFVTGLVGK...</td>\n",
       "    </tr>\n",
       "    <tr>\n",
       "      <th>2</th>\n",
       "      <td>F245S</td>\n",
       "      <td>70.0</td>\n",
       "      <td>https://doi.org/10.1002/pro.3963</td>\n",
       "      <td>MTKIITSPSKFIQGPDELSRLSAYTERLGKKAFIIADDFVTGLVGK...</td>\n",
       "    </tr>\n",
       "    <tr>\n",
       "      <th>3</th>\n",
       "      <td>D121N/F245S</td>\n",
       "      <td>60.0</td>\n",
       "      <td>https://doi.org/10.1002/pro.3963</td>\n",
       "      <td>MTKIITSPSKFIQGPDELSRLSAYTERLGKKAFIIADDFVTGLVGK...</td>\n",
       "    </tr>\n",
       "  </tbody>\n",
       "</table>\n",
       "</div>"
      ],
      "text/plain": [
       "     Mutations  topt                          reference  \\\n",
       "0           WT  68.5   https://doi.org/10.1002/pro.3963   \n",
       "1        D121N  75.0   https://doi.org/10.1002/pro.3963   \n",
       "2        F245S  70.0   https://doi.org/10.1002/pro.3963   \n",
       "3  D121N/F245S  60.0   https://doi.org/10.1002/pro.3963   \n",
       "\n",
       "                                            sequence  \n",
       "0  MTKIITSPSKFIQGPDELSRLSAYTERLGKKAFIIADDFVTGLVGK...  \n",
       "1  MTKIITSPSKFIQGPDELSRLSAYTERLGKKAFIIADDFVTGLVGK...  \n",
       "2  MTKIITSPSKFIQGPDELSRLSAYTERLGKKAFIIADDFVTGLVGK...  \n",
       "3  MTKIITSPSKFIQGPDELSRLSAYTERLGKKAFIIADDFVTGLVGK...  "
      ]
     },
     "execution_count": 28,
     "metadata": {},
     "output_type": "execute_result"
    }
   ],
   "source": [
    "# gdh_data = pd.read_csv('../data/casestudy/BcGDH.csv')\n",
    "# record = list(SeqIO.parse('../data/casestudy/A0A150JSL8.fasta',\"fasta\"))\n",
    "# hcgdh_seq = str(record[0].seq)\n",
    "# seqs = []\n",
    "# for i in range(len(gdh_data.index)):\n",
    "#     if list(gdh_data.Mutations)[i]=='WT':\n",
    "#         seqs.append( hcgdh_seq )\n",
    "#     else:\n",
    "#         mut_list = list(gdh_data.Mutations)[i].split('/')\n",
    "#         mutseq = apply_mutations( hcgdh_seq, mut_list)\n",
    "#         seqs.append(mutseq)\n",
    "# gdh_data['sequence'] = seqs\n",
    "# gdh_data.head()"
   ]
  },
  {
   "cell_type": "code",
   "execution_count": 29,
   "id": "e99cfb1c",
   "metadata": {},
   "outputs": [],
   "source": [
    "# gdh_data.to_csv('../data/casestudy/BcGDH_data.csv',index=None)"
   ]
  },
  {
   "cell_type": "markdown",
   "id": "66021606",
   "metadata": {},
   "source": [
    "# Case study:Xylose isomerase"
   ]
  },
  {
   "cell_type": "code",
   "execution_count": 51,
   "id": "8f8050f3",
   "metadata": {},
   "outputs": [
    {
     "data": {
      "text/html": [
       "<div>\n",
       "<style scoped>\n",
       "    .dataframe tbody tr th:only-of-type {\n",
       "        vertical-align: middle;\n",
       "    }\n",
       "\n",
       "    .dataframe tbody tr th {\n",
       "        vertical-align: top;\n",
       "    }\n",
       "\n",
       "    .dataframe thead th {\n",
       "        text-align: right;\n",
       "    }\n",
       "</style>\n",
       "<table border=\"1\" class=\"dataframe\">\n",
       "  <thead>\n",
       "    <tr style=\"text-align: right;\">\n",
       "      <th></th>\n",
       "      <th>uniprot_id</th>\n",
       "      <th>mutation</th>\n",
       "      <th>organism</th>\n",
       "      <th>topt</th>\n",
       "      <th>note</th>\n",
       "      <th>reference</th>\n",
       "    </tr>\n",
       "  </thead>\n",
       "  <tbody>\n",
       "    <tr>\n",
       "      <th>0</th>\n",
       "      <td>P19148</td>\n",
       "      <td>WT</td>\n",
       "      <td>TT</td>\n",
       "      <td>84</td>\n",
       "      <td>WT</td>\n",
       "      <td>https://doi.org/10.1093/protein/13.4.259</td>\n",
       "    </tr>\n",
       "    <tr>\n",
       "      <th>1</th>\n",
       "      <td>P19148</td>\n",
       "      <td>Q59P</td>\n",
       "      <td>TT</td>\n",
       "      <td>84</td>\n",
       "      <td>Gln58Pro</td>\n",
       "      <td>https://doi.org/10.1093/protein/13.4.259</td>\n",
       "    </tr>\n",
       "    <tr>\n",
       "      <th>2</th>\n",
       "      <td>P19148</td>\n",
       "      <td>A63P</td>\n",
       "      <td>TT</td>\n",
       "      <td>71</td>\n",
       "      <td>Ala62Pro</td>\n",
       "      <td>https://doi.org/10.1093/protein/13.4.259</td>\n",
       "    </tr>\n",
       "    <tr>\n",
       "      <th>3</th>\n",
       "      <td>P19148</td>\n",
       "      <td>Q59P/A63P</td>\n",
       "      <td>TT</td>\n",
       "      <td>73</td>\n",
       "      <td>Gln58Pro/Ala62Pro</td>\n",
       "      <td>https://doi.org/10.1093/protein/13.4.259</td>\n",
       "    </tr>\n",
       "    <tr>\n",
       "      <th>4</th>\n",
       "      <td>P45687</td>\n",
       "      <td>WT</td>\n",
       "      <td>TN</td>\n",
       "      <td>97</td>\n",
       "      <td>WT</td>\n",
       "      <td>https://doi.org/10.1093/protein/13.4.259</td>\n",
       "    </tr>\n",
       "    <tr>\n",
       "      <th>5</th>\n",
       "      <td>P45687</td>\n",
       "      <td>P59Q</td>\n",
       "      <td>TN</td>\n",
       "      <td>88</td>\n",
       "      <td>Pro58Gln</td>\n",
       "      <td>https://doi.org/10.1093/protein/13.4.259</td>\n",
       "    </tr>\n",
       "    <tr>\n",
       "      <th>6</th>\n",
       "      <td>P45687</td>\n",
       "      <td>P63A</td>\n",
       "      <td>TN</td>\n",
       "      <td>88</td>\n",
       "      <td>Pro62Ala</td>\n",
       "      <td>https://doi.org/10.1093/protein/13.4.259</td>\n",
       "    </tr>\n",
       "    <tr>\n",
       "      <th>7</th>\n",
       "      <td>P45687</td>\n",
       "      <td>P59Q/P63A</td>\n",
       "      <td>TN</td>\n",
       "      <td>86</td>\n",
       "      <td>Pro58Gln/Pro62Ala</td>\n",
       "      <td>https://doi.org/10.1093/protein/13.4.259</td>\n",
       "    </tr>\n",
       "  </tbody>\n",
       "</table>\n",
       "</div>"
      ],
      "text/plain": [
       "  uniprot_id   mutation organism  topt               note  \\\n",
       "0     P19148         WT       TT    84                 WT   \n",
       "1     P19148       Q59P       TT    84           Gln58Pro   \n",
       "2     P19148       A63P       TT    71           Ala62Pro   \n",
       "3     P19148  Q59P/A63P       TT    73  Gln58Pro/Ala62Pro   \n",
       "4     P45687         WT       TN    97                 WT   \n",
       "5     P45687       P59Q       TN    88           Pro58Gln   \n",
       "6     P45687       P63A       TN    88           Pro62Ala   \n",
       "7     P45687  P59Q/P63A       TN    86  Pro58Gln/Pro62Ala   \n",
       "\n",
       "                                  reference  \n",
       "0  https://doi.org/10.1093/protein/13.4.259  \n",
       "1  https://doi.org/10.1093/protein/13.4.259  \n",
       "2  https://doi.org/10.1093/protein/13.4.259  \n",
       "3  https://doi.org/10.1093/protein/13.4.259  \n",
       "4  https://doi.org/10.1093/protein/13.4.259  \n",
       "5  https://doi.org/10.1093/protein/13.4.259  \n",
       "6  https://doi.org/10.1093/protein/13.4.259  \n",
       "7  https://doi.org/10.1093/protein/13.4.259  "
      ]
     },
     "execution_count": 51,
     "metadata": {},
     "output_type": "execute_result"
    }
   ],
   "source": [
    "# xi_data = pd.read_csv('../data/casestudy/XI.csv')\n",
    "# seq_TT = get_seq('P19148')\n",
    "# seq_TN = get_seq('P45687')\n",
    "# seqs = []\n",
    "# for i in range(len(xi_data.index)):\n",
    "#     if list(xi_data.mutation)[i] == 'WT':\n",
    "#         if list(xi_data.organism)[i] =='TT':\n",
    "#             seqs.append( seq_TT )\n",
    "#         else:\n",
    "#             seqs.append( seq_TN )\n",
    "#     else:\n",
    "#         mut_list = list(xi_data.mutation)[i].split('/')\n",
    "#         if list(xi_data.organism)[i] =='TT':\n",
    "#             seqs.append( apply_mutations( seq_TT, mut_list) )\n",
    "#         else:\n",
    "#             seqs.append( apply_mutations( seq_TN, mut_list) )\n",
    "# xi_data['sequence'] = seqs\n",
    "# xi_data"
   ]
  },
  {
   "cell_type": "code",
   "execution_count": 56,
   "id": "9111dc04",
   "metadata": {},
   "outputs": [],
   "source": [
    "# xi_data.to_csv('../data/casestudy/xi_data.csv',index=None)"
   ]
  },
  {
   "cell_type": "markdown",
   "id": "2c760dcf",
   "metadata": {},
   "source": [
    "# Case study: TrBgl"
   ]
  },
  {
   "cell_type": "code",
   "execution_count": 44,
   "id": "55600afa",
   "metadata": {},
   "outputs": [],
   "source": [
    "# trbgl_data = pd.read_csv('../data/casestudy/TrBgl2.csv')\n",
    "# seq_trbgl = get_seq('O93785')\n",
    "# seqs = []\n",
    "# for i in range(len(trbgl_data.index)):\n",
    "#     if list(trbgl_data.mutation)[i]=='WT':\n",
    "#         seqs.append( seq_trbgl)\n",
    "#     else:\n",
    "#         mut_list = list(trbgl_data.mutation)[i].split('/')\n",
    "#         mutseq = apply_mutations( seq_trbgl, mut_list)\n",
    "#         seqs.append( mutseq )\n",
    "# trbgl_data['sequence'] = seqs"
   ]
  },
  {
   "cell_type": "code",
   "execution_count": 46,
   "id": "bd816866",
   "metadata": {},
   "outputs": [],
   "source": [
    "# trbgl_data.to_csv('../data/casestudy/TrBgl_data.csv',index=None)"
   ]
  },
  {
   "cell_type": "markdown",
   "id": "dde588e7",
   "metadata": {},
   "source": [
    "# Case study: BbrSpase"
   ]
  },
  {
   "cell_type": "code",
   "execution_count": 8,
   "id": "29146afa",
   "metadata": {},
   "outputs": [],
   "source": [
    "# bbrspase_data = pd.read_csv('../data/casestudy/BbrSPase.csv')\n",
    "# seq_spase = get_seq('A0AAI7ZJW1')\n",
    "# seqs = []\n",
    "# for i in range(len(bbrspase_data.index)):\n",
    "#     if list(bbrspase_data.mutation)[i]=='WT':\n",
    "#         seqs.append( seq_spase)\n",
    "#     else:\n",
    "#         mut_list = list(bbrspase_data.mutation)[i].split('/')\n",
    "#         mutseq = apply_mutations( seq_spase, mut_list)\n",
    "#         seqs.append( mutseq )\n",
    "# bbrspase_data['sequence'] = seqs"
   ]
  },
  {
   "cell_type": "code",
   "execution_count": 9,
   "id": "6ef8daa4",
   "metadata": {},
   "outputs": [
    {
     "data": {
      "text/html": [
       "<div>\n",
       "<style scoped>\n",
       "    .dataframe tbody tr th:only-of-type {\n",
       "        vertical-align: middle;\n",
       "    }\n",
       "\n",
       "    .dataframe tbody tr th {\n",
       "        vertical-align: top;\n",
       "    }\n",
       "\n",
       "    .dataframe thead th {\n",
       "        text-align: right;\n",
       "    }\n",
       "</style>\n",
       "<table border=\"1\" class=\"dataframe\">\n",
       "  <thead>\n",
       "    <tr style=\"text-align: right;\">\n",
       "      <th></th>\n",
       "      <th>uniprot_id</th>\n",
       "      <th>organism</th>\n",
       "      <th>mutation</th>\n",
       "      <th>topt</th>\n",
       "      <th>reference</th>\n",
       "      <th>sequence</th>\n",
       "    </tr>\n",
       "  </thead>\n",
       "  <tbody>\n",
       "    <tr>\n",
       "      <th>0</th>\n",
       "      <td>A0AAI7ZJW1</td>\n",
       "      <td>Bifidobacterium breve</td>\n",
       "      <td>WT</td>\n",
       "      <td>50</td>\n",
       "      <td>https://doi.org/10.1007/s00253-022-12030-w</td>\n",
       "      <td>MKNKVQLIAYADRLGDGTLSSMTDILRTRFDGVYDGVHVLPFFTPF...</td>\n",
       "    </tr>\n",
       "    <tr>\n",
       "      <th>1</th>\n",
       "      <td>A0AAI7ZJW1</td>\n",
       "      <td>Bifidobacterium breve</td>\n",
       "      <td>P134C/L343F</td>\n",
       "      <td>45</td>\n",
       "      <td>https://doi.org/10.1007/s00253-022-12030-w</td>\n",
       "      <td>MKNKVQLIAYADRLGDGTLSSMTDILRTRFDGVYDGVHVLPFFTPF...</td>\n",
       "    </tr>\n",
       "    <tr>\n",
       "      <th>2</th>\n",
       "      <td>A0AAI7ZJW1</td>\n",
       "      <td>Bifidobacterium breve</td>\n",
       "      <td>L341V/L343F</td>\n",
       "      <td>55</td>\n",
       "      <td>https://doi.org/10.1007/s00253-022-12030-w</td>\n",
       "      <td>MKNKVQLIAYADRLGDGTLSSMTDILRTRFDGVYDGVHVLPFFTPF...</td>\n",
       "    </tr>\n",
       "    <tr>\n",
       "      <th>3</th>\n",
       "      <td>A0AAI7ZJW1</td>\n",
       "      <td>Bifidobacterium breve</td>\n",
       "      <td>P134C/L341V/L343F</td>\n",
       "      <td>50</td>\n",
       "      <td>https://doi.org/10.1007/s00253-022-12030-w</td>\n",
       "      <td>MKNKVQLIAYADRLGDGTLSSMTDILRTRFDGVYDGVHVLPFFTPF...</td>\n",
       "    </tr>\n",
       "  </tbody>\n",
       "</table>\n",
       "</div>"
      ],
      "text/plain": [
       "   uniprot_id               organism           mutation  topt  \\\n",
       "0  A0AAI7ZJW1  Bifidobacterium breve                 WT    50   \n",
       "1  A0AAI7ZJW1  Bifidobacterium breve        P134C/L343F    45   \n",
       "2  A0AAI7ZJW1  Bifidobacterium breve        L341V/L343F    55   \n",
       "3  A0AAI7ZJW1  Bifidobacterium breve  P134C/L341V/L343F    50   \n",
       "\n",
       "                                    reference  \\\n",
       "0  https://doi.org/10.1007/s00253-022-12030-w   \n",
       "1  https://doi.org/10.1007/s00253-022-12030-w   \n",
       "2  https://doi.org/10.1007/s00253-022-12030-w   \n",
       "3  https://doi.org/10.1007/s00253-022-12030-w   \n",
       "\n",
       "                                            sequence  \n",
       "0  MKNKVQLIAYADRLGDGTLSSMTDILRTRFDGVYDGVHVLPFFTPF...  \n",
       "1  MKNKVQLIAYADRLGDGTLSSMTDILRTRFDGVYDGVHVLPFFTPF...  \n",
       "2  MKNKVQLIAYADRLGDGTLSSMTDILRTRFDGVYDGVHVLPFFTPF...  \n",
       "3  MKNKVQLIAYADRLGDGTLSSMTDILRTRFDGVYDGVHVLPFFTPF...  "
      ]
     },
     "execution_count": 9,
     "metadata": {},
     "output_type": "execute_result"
    }
   ],
   "source": [
    "bbrspase_data"
   ]
  },
  {
   "cell_type": "code",
   "execution_count": 10,
   "id": "e83fc404",
   "metadata": {},
   "outputs": [],
   "source": [
    "# bbrspase_data.to_csv('../data/casestudy/bbrspase_data.csv',index=None)"
   ]
  },
  {
   "cell_type": "markdown",
   "id": "8f129308",
   "metadata": {},
   "source": [
    "# Default hyperparameters"
   ]
  },
  {
   "cell_type": "code",
   "execution_count": 3,
   "id": "9684006a",
   "metadata": {},
   "outputs": [],
   "source": [
    "# default_dict = { 'dim':320,'window':5,'dropout':0.1,'n_head':4,'n_RD':3 }\n",
    "# dump_pickle( default_dict, '../data/performances/default.pkl')"
   ]
  },
  {
   "cell_type": "code",
   "execution_count": 2,
   "id": "6986a76d",
   "metadata": {},
   "outputs": [],
   "source": [
    "# win_sizes = [3,5,7]; dropouts = [0.1,0.2,0.5]; ind = 1;\n",
    "# for win_size in win_sizes:\n",
    "#     for dp in dropouts:\n",
    "#         temp_dict = { 'window': win_size,'dropout':dp,'n_head':4,'n_RD': 3 }\n",
    "#         dump_pickle( temp_dict, '../data/hyparams/params_'+str(ind)+'.pkl')\n",
    "#         ind +=1"
   ]
  },
  {
   "cell_type": "code",
   "execution_count": null,
   "id": "70a3f4b1",
   "metadata": {},
   "outputs": [],
   "source": []
  }
 ],
 "metadata": {
  "kernelspec": {
   "display_name": "Python 3 (ipykernel)",
   "language": "python",
   "name": "python3"
  },
  "language_info": {
   "codemirror_mode": {
    "name": "ipython",
    "version": 3
   },
   "file_extension": ".py",
   "mimetype": "text/x-python",
   "name": "python",
   "nbconvert_exporter": "python",
   "pygments_lexer": "ipython3",
   "version": "3.8.10"
  }
 },
 "nbformat": 4,
 "nbformat_minor": 5
}
