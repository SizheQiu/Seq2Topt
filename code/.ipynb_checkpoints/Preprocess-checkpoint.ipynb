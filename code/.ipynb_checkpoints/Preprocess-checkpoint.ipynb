{
 "cells": [
  {
   "cell_type": "code",
   "execution_count": 1,
   "id": "ad1a0e73",
   "metadata": {},
   "outputs": [],
   "source": [
    "import requests\n",
    "import numpy as np\n",
    "import pandas as pd\n",
    "from matplotlib import pyplot as plt\n",
    "import seaborn as sns\n",
    "from urllib import request\n",
    "from brendapyrser import BRENDA\n",
    "import html\n",
    "import pickle\n",
    "from math import exp\n",
    "import random\n",
    "import re\n",
    "from functions import *"
   ]
  },
  {
   "cell_type": "code",
   "execution_count": 2,
   "id": "a5f6205a",
   "metadata": {},
   "outputs": [],
   "source": [
    "brenda = BRENDA('../../local_data/brenda.txt') # download brenda.txt from https://www.brenda-enzymes.org/download.php."
   ]
  },
  {
   "cell_type": "markdown",
   "id": "57fc96a7",
   "metadata": {},
   "source": [
    "# Get enzyme optimal temperatures from brenda"
   ]
  },
  {
   "cell_type": "code",
   "execution_count": 3,
   "id": "d4aaef85",
   "metadata": {},
   "outputs": [],
   "source": [
    "def get_entry_ot( ec ):\n",
    "    r = brenda.reactions.get_by_id(ec)\n",
    "    all_data = r.temperature['optimum']\n",
    "    result = []\n",
    "    for i in range(len(all_data)):\n",
    "        OT = all_data[i]['value']\n",
    "        if '#' not in all_data[i]['meta']:\n",
    "            continue\n",
    "        p_refs = []\n",
    "        if ';' in all_data[i]['meta']:\n",
    "            meta_list = all_data[i]['meta'].split(';')\n",
    "            for meta in meta_list:\n",
    "                p_refs += list( meta.split('#')[1].split(',') )\n",
    "                \n",
    "        else:\n",
    "            meta = all_data[i]['meta']\n",
    "            p_refs += list( meta.split('#')[1].split(',') )\n",
    "            \n",
    "        for ref in p_refs:\n",
    "            if (ref in r.proteins) and (r.proteins[ref]['proteinID'] != ''):\n",
    "                p_id = r.proteins[ref]['proteinID']\n",
    "                p_id = p_id.replace('UniProt','').replace('SwissProt','').\\\n",
    "                replace('swissprot','').replace('Uniprot','').replace('TrEMBL','').replace('GenBank','').strip()\n",
    "                if ' and ' in p_id:\n",
    "                    p_ids = p_id.split(' and ')\n",
    "                    for p_id in p_ids:\n",
    "                        result.append( {'uniprot_id': p_id.strip(),'topt':float(OT)} )        \n",
    "                elif ' ' in p_id:\n",
    "                    p_id = max( p_id.split(' '), key=len )\n",
    "                    result.append( {'uniprot_id': p_id.strip(),'topt':float(OT)} )\n",
    "                else:\n",
    "                    result.append( {'uniprot_id': p_id.strip(),'topt':float(OT)} )    \n",
    "    return result"
   ]
  },
  {
   "cell_type": "code",
   "execution_count": 4,
   "id": "ea7212d8",
   "metadata": {},
   "outputs": [
    {
     "name": "stdout",
     "output_type": "stream",
     "text": [
      "7609\n"
     ]
    }
   ],
   "source": [
    "ec_list = []\n",
    "for rxn in brenda.reactions:\n",
    "    ec_list.append( rxn.ec_number )\n",
    "ec_list = list(set(ec_list))\n",
    "print(len(ec_list))"
   ]
  },
  {
   "cell_type": "code",
   "execution_count": 1,
   "id": "f720d4c7",
   "metadata": {},
   "outputs": [],
   "source": [
    "# data = []\n",
    "# idx = 0\n",
    "# for ec in ec_list:\n",
    "#     if idx % 500 == 0:\n",
    "#         print(str(idx) + ' done')\n",
    "#     data += get_entry_ot( ec )\n",
    "#     idx+=1"
   ]
  },
  {
   "cell_type": "code",
   "execution_count": 6,
   "id": "5e0738ce",
   "metadata": {},
   "outputs": [],
   "source": [
    "raw_ot = pd.DataFrame(data).dropna().drop_duplicates(subset=['uniprot_id','topt']).reset_index().drop(['index'],axis=1)\n",
    "raw_ot = raw_ot[raw_ot['topt']>=0].reset_index().drop(['index'],axis=1)\n",
    "keep_inds = []\n",
    "for i in list(raw_ot.index):\n",
    "    temp_id = list(raw_ot['uniprot_id'])[i]\n",
    "    if len( raw_ot[raw_ot['uniprot_id']==temp_id].index) == 1:\n",
    "        keep_inds.append(i)\n",
    "raw_ot = (raw_ot.iloc[keep_inds]).reset_index().drop(['index'],axis=1)\n",
    "# raw_ot.to_csv('../data/raw_brenda_topt.csv',index=None)"
   ]
  },
  {
   "cell_type": "code",
   "execution_count": 11,
   "id": "dc731faa",
   "metadata": {},
   "outputs": [
    {
     "name": "stdout",
     "output_type": "stream",
     "text": [
      "0.0% done\n",
      "0.08986340762041696% done\n",
      "0.17972681524083392% done\n",
      "0.2695902228612509% done\n",
      "0.35945363048166784% done\n",
      "0.44931703810208484% done\n",
      "0.5391804457225018% done\n",
      "0.6290438533429188% done\n",
      "0.7189072609633357% done\n",
      "0.8087706685837527% done\n",
      "0.8986340762041697% done\n",
      "0.9884974838245866% done\n"
     ]
    }
   ],
   "source": [
    "# raw_ot = pd.read_csv('../data/raw_brenda_topt.csv')\n",
    "# seqs = []\n",
    "# total = len(raw_ot.index)\n",
    "# for i in list(raw_ot.index):\n",
    "#     if i%500 == 0:\n",
    "#         print( str(i/total)+'% done' ) \n",
    "#     temp_id = list(raw_ot['uniprot_id'])[i].strip()\n",
    "#     temp_seq =get_seq( temp_id )\n",
    "#     seqs.append(temp_seq)\n",
    "# raw_ot['sequence'] = seqs\n",
    "# raw_ot = raw_ot.dropna().reset_index().drop(['index'],axis=1)\n",
    "# raw_ot.to_csv('../data/brenda_topt.csv',index=None)"
   ]
  },
  {
   "cell_type": "markdown",
   "id": "ab521d63",
   "metadata": {},
   "source": [
    "# Merge Brenda data with TOME data"
   ]
  },
  {
   "cell_type": "code",
   "execution_count": 15,
   "id": "04f28980",
   "metadata": {},
   "outputs": [],
   "source": [
    "brenda_topt = (pd.read_csv('../data/brenda_topt.csv')).dropna().reset_index().drop(['index'],axis=1)\n",
    "tome_topt = pd.read_csv('../data/sequence_ogt_topt.csv') # obtained from TOMER (https://doi.org/10.1021/acs.jcim.0c00489)\n",
    "tome_topt = tome_topt[['uniprot_id','topt','sequence']]\n",
    "remove_idx =[]\n",
    "for i in list(brenda_topt.index):\n",
    "    if len(brenda_topt['sequence'][i]) < 50:\n",
    "        remove_idx.append(i)\n",
    "brenda_topt = (brenda_topt.drop(remove_idx)).reset_index().drop(['index'],axis=1)\n",
    "topt_data = (pd.concat([brenda_topt, tome_topt]) ).drop_duplicates(subset=['uniprot_id','topt','sequence']).\\\n",
    "                                        reset_index().drop(['index'],axis=1)\n",
    "# remove conflicting data\n",
    "remove_idx=[]\n",
    "for i in list(topt_data.index):\n",
    "    temp_seq = topt_data['sequence'][i]\n",
    "    temp_pd = topt_data[ topt_data['sequence']==temp_seq ]\n",
    "    if len(temp_pd.index) > 1:\n",
    "        remove_idx.append(i)\n",
    "topt_data = ( topt_data.drop(remove_idx) ).reset_index().drop(['index'],axis=1)\n",
    "# topt_data.to_csv('../data/topt_data.csv',index=None)"
   ]
  },
  {
   "cell_type": "markdown",
   "id": "d9bb5c33",
   "metadata": {},
   "source": [
    "# Dataset split"
   ]
  },
  {
   "cell_type": "code",
   "execution_count": 18,
   "id": "c3ab2457",
   "metadata": {},
   "outputs": [],
   "source": [
    "topt_data = pd.read_csv('../data/topt_data.csv')"
   ]
  },
  {
   "cell_type": "code",
   "execution_count": 20,
   "id": "473ac7e8",
   "metadata": {},
   "outputs": [],
   "source": [
    "def split_table( table, ratio ):\n",
    "    idx=list(table.index)\n",
    "    np.random.shuffle(idx)\n",
    "    num_split = int( len(idx) * ratio)\n",
    "    idx_test, idx_train = idx[:num_split], idx[num_split:]\n",
    "    train_table = (table.iloc[idx_train]).reset_index().drop(['index'],axis=1)\n",
    "    test_table = (table.iloc[idx_test]).reset_index().drop(['index'],axis=1)\n",
    "    return train_table,test_table"
   ]
  },
  {
   "cell_type": "code",
   "execution_count": 31,
   "id": "538324ab",
   "metadata": {},
   "outputs": [],
   "source": [
    "train, test = split_table(topt_data, ratio=0.1)"
   ]
  },
  {
   "cell_type": "code",
   "execution_count": 32,
   "id": "1728c79a",
   "metadata": {},
   "outputs": [],
   "source": [
    "# train.to_csv('../data/train.csv',index=None)\n",
    "# test.to_csv('../data/test.csv',index=None)"
   ]
  },
  {
   "cell_type": "code",
   "execution_count": 35,
   "id": "e1e8a0b6",
   "metadata": {},
   "outputs": [],
   "source": [
    "train = pd.read_csv('../data/train.csv'); test=pd.read_csv('../data/test.csv');"
   ]
  },
  {
   "cell_type": "code",
   "execution_count": 38,
   "id": "b1a08367",
   "metadata": {},
   "outputs": [],
   "source": [
    "# Oversampling for T >= 80 C\n",
    "train_os = train.copy()\n",
    "high_ot = (train[train['topt']>=80]).reset_index().drop(['index'],axis=1)\n",
    "over_high = []\n",
    "for i in range( len(high_ot.index) ):\n",
    "    rand_idx = np.random.randint( len( high_ot.index ) - 1,size=1)[0]\n",
    "    temp_data = dict( high_ot.iloc[rand_idx] )\n",
    "    over_high.append( temp_data )\n",
    "over_pd = pd.DataFrame(over_high)\n",
    "train_os = ( pd.concat([ train_os, over_pd]) ).reset_index().drop(['index'],axis=1)\n",
    "# train_os.to_csv('../data/train_os.csv',index=None)"
   ]
  },
  {
   "cell_type": "code",
   "execution_count": 39,
   "id": "de721a46",
   "metadata": {},
   "outputs": [],
   "source": [
    "train_os = pd.read_csv('../data/train_os.csv')"
   ]
  },
  {
   "cell_type": "code",
   "execution_count": 52,
   "id": "eff496b8",
   "metadata": {},
   "outputs": [
    {
     "data": {
      "image/png": "[encoded data removed]",
      "text/plain": [
       "<Figure size 720x288 with 2 Axes>"
      ]
     },
     "metadata": {
      "needs_background": "light"
     },
     "output_type": "display_data"
    }
   ],
   "source": [
    "fig, axs = plt.subplots(1,2, figsize=(10,4))\n",
    "axs[0].hist(train['topt'],alpha=1,label='Original');\n",
    "axs[0].hist(train_os['topt'],alpha=0.7, histtype='barstacked',rwidth=0.7, label='Oversampled')\n",
    "axs[0].set_title('Train set')\n",
    "axs[1].hist(test['topt'], bins=20, label='Test');\n",
    "axs[1].set_title('Test set')\n",
    "for ax in axs:\n",
    "    ax.set_xlabel('Temperature(\\u2103)')\n",
    "    ax.set_ylabel('Count')\n",
    "    ax.legend()"
   ]
  },
  {
   "cell_type": "markdown",
   "id": "9d5c6898",
   "metadata": {},
   "source": [
    "# Generate 3-mer dict"
   ]
  },
  {
   "cell_type": "code",
   "execution_count": 56,
   "id": "529a046b",
   "metadata": {},
   "outputs": [],
   "source": [
    "train_os = pd.read_csv('../data/train_os.csv'); test=pd.read_csv('../data/test.csv');\n",
    "all_seqs = list( set( list( train_os['sequence'] ) + list( test['sequence'] ) ) )\n",
    "letters = list( set(''.join(all_seqs)) )\n",
    "word_dict = {}\n",
    "def check_word(kmer, w_dict):\n",
    "    if kmer in w_dict:\n",
    "        return None\n",
    "    elif len(w_dict.keys()) == 0:\n",
    "        w_dict[kmer] = 0\n",
    "    else:\n",
    "        w_dict[kmer] = max(list(w_dict.values())) + 1\n",
    "    return None\n",
    "        \n",
    "for x in letters:\n",
    "    for y in letters:\n",
    "        kmer_0='>'+x+y; kmer_1=x+y+'<';\n",
    "        check_word(kmer_0, word_dict)\n",
    "        check_word(kmer_1, word_dict)\n",
    "for x in letters:\n",
    "    for y in letters:\n",
    "        for z in letters:\n",
    "            check_word( x+y+z, word_dict)"
   ]
  },
  {
   "cell_type": "code",
   "execution_count": 59,
   "id": "7878856f",
   "metadata": {},
   "outputs": [],
   "source": [
    "# dump_pickle(word_dict, '../data/word_dict.pkl')"
   ]
  },
  {
   "cell_type": "markdown",
   "id": "8f129308",
   "metadata": {},
   "source": [
    "# Default hyperparameters"
   ]
  },
  {
   "cell_type": "code",
   "execution_count": 2,
   "id": "3d47a15d",
   "metadata": {},
   "outputs": [],
   "source": [
    "# default_dict = { 'dim': 64,'window':5,'dropout':0.5,'layer_cnn':3,'layer_out': 4 }\n",
    "# dump_pickle(default_dict, '../data/performances/default.pkl')"
   ]
  },
  {
   "cell_type": "code",
   "execution_count": null,
   "id": "9684006a",
   "metadata": {},
   "outputs": [],
   "source": []
  }
 ],
 "metadata": {
  "kernelspec": {
   "display_name": "Python 3 (ipykernel)",
   "language": "python",
   "name": "python3"
  },
  "language_info": {
   "codemirror_mode": {
    "name": "ipython",
    "version": 3
   },
   "file_extension": ".py",
   "mimetype": "text/x-python",
   "name": "python",
   "nbconvert_exporter": "python",
   "pygments_lexer": "ipython3",
   "version": "3.8.10"
  }
 },
 "nbformat": 4,
 "nbformat_minor": 5
}
