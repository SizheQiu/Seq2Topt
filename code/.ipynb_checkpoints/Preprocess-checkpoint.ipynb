{
 "cells": [
  {
   "cell_type": "code",
   "execution_count": 1,
   "id": "ad1a0e73",
   "metadata": {},
   "outputs": [],
   "source": [
    "import numpy as np\n",
    "import pandas as pd\n",
    "from matplotlib import pyplot as plt\n",
    "import seaborn as sns\n",
    "import pickle\n",
    "from math import exp\n",
    "import random\n",
    "import re\n",
    "from Bio import SeqIO\n",
    "from Bio.Seq import Seq\n",
    "from Bio.SeqRecord import SeqRecord\n",
    "from functions import *\n",
    "import os\n",
    "import requests"
   ]
  },
  {
   "cell_type": "markdown",
   "id": "d9bb5c33",
   "metadata": {},
   "source": [
    "# Topt: dataset split"
   ]
  },
  {
   "cell_type": "code",
   "execution_count": 2,
   "id": "c3ab2457",
   "metadata": {},
   "outputs": [],
   "source": [
    "topt_data = pd.read_csv('../data/Topt/sequence_ogt_topt.csv') # obtained from TOMER (https://doi.org/10.1021/acs.jcim.0c00489)\n",
    "topt_data = topt_data[['uniprot_id','topt','sequence']]"
   ]
  },
  {
   "cell_type": "code",
   "execution_count": 3,
   "id": "473ac7e8",
   "metadata": {},
   "outputs": [],
   "source": [
    "def split_table( table, ratio ):\n",
    "    idx=list(table.index)\n",
    "    np.random.shuffle(idx)\n",
    "    num_split = int( len(idx) * ratio)\n",
    "    idx_test, idx_train = idx[:num_split], idx[num_split:]\n",
    "    train_table = (table.iloc[idx_train]).reset_index().drop(['index'],axis=1)\n",
    "    test_table = (table.iloc[idx_test]).reset_index().drop(['index'],axis=1)\n",
    "    return train_table,test_table"
   ]
  },
  {
   "cell_type": "code",
   "execution_count": 7,
   "id": "538324ab",
   "metadata": {},
   "outputs": [],
   "source": [
    "train, test = split_table(topt_data, ratio=0.1)"
   ]
  },
  {
   "cell_type": "code",
   "execution_count": 8,
   "id": "1728c79a",
   "metadata": {},
   "outputs": [],
   "source": [
    "# train.to_csv('../data/train.csv',index=None)\n",
    "# test.to_csv('../data/test.csv',index=None)"
   ]
  },
  {
   "cell_type": "code",
   "execution_count": 10,
   "id": "55a92b87",
   "metadata": {},
   "outputs": [],
   "source": [
    "# fig, axs = plt.subplots(1,2, figsize=(10,4))\n",
    "# axs[0].hist(train['topt'])\n",
    "# axs[1].hist(test['topt'])"
   ]
  },
  {
   "cell_type": "code",
   "execution_count": 11,
   "id": "e1e8a0b6",
   "metadata": {},
   "outputs": [],
   "source": [
    "train = pd.read_csv('../data/Topt/train.csv'); test=pd.read_csv('../data/Topt/test.csv');"
   ]
  },
  {
   "cell_type": "code",
   "execution_count": 12,
   "id": "b1a08367",
   "metadata": {},
   "outputs": [],
   "source": [
    "# Oversampling for T >= 80 C\n",
    "# train_os = train.copy()\n",
    "# high_ot = (train[train['topt']>=80]).reset_index().drop(['index'],axis=1)\n",
    "# over_high = []\n",
    "# for i in range( len(high_ot.index) ):\n",
    "#     rand_idx = np.random.randint( len( high_ot.index ) - 1,size=1)[0]\n",
    "#     temp_data = dict( high_ot.iloc[rand_idx] )\n",
    "#     over_high.append( temp_data )\n",
    "# over_pd = pd.DataFrame(over_high)\n",
    "# train_os = ( pd.concat([ train_os, over_pd]) ).reset_index().drop(['index'],axis=1)\n",
    "# train_os.to_csv('../data/train_os.csv',index=None)"
   ]
  },
  {
   "cell_type": "code",
   "execution_count": 13,
   "id": "de721a46",
   "metadata": {},
   "outputs": [],
   "source": [
    "train_os = pd.read_csv('../data/Topt/train_os.csv')"
   ]
  },
  {
   "cell_type": "code",
   "execution_count": 21,
   "id": "eff496b8",
   "metadata": {},
   "outputs": [
    {
     "data": {
      "image/png": "[encoded data removed]",
      "text/plain": [
       "<Figure size 720x288 with 2 Axes>"
      ]
     },
     "metadata": {
      "needs_background": "light"
     },
     "output_type": "display_data"
    }
   ],
   "source": [
    "fig, axs = plt.subplots(1,2, figsize=(10,4))\n",
    "axs[0].hist(train['topt'],alpha=1,label='Original');\n",
    "axs[0].hist(train_os['topt'],alpha=0.7, histtype='barstacked',rwidth=0.7, label='Oversampled')\n",
    "axs[0].set_title('Train set')\n",
    "axs[1].hist(test['topt'], bins=10, color='tab:green', label='Test set');\n",
    "axs[1].set_title('Test set')\n",
    "for ax in axs:\n",
    "    ax.set_xlabel('Temperature(\\u2103)')\n",
    "    ax.set_ylabel('Count')\n",
    "    ax.legend()"
   ]
  },
  {
   "cell_type": "code",
   "execution_count": 22,
   "id": "d6dcd73f",
   "metadata": {},
   "outputs": [
    {
     "name": "stdout",
     "output_type": "stream",
     "text": [
      "2829\n",
      "291\n"
     ]
    }
   ],
   "source": [
    "print(len(train_os.index))\n",
    "print(len(test.index))"
   ]
  },
  {
   "cell_type": "code",
   "execution_count": 2,
   "id": "6b129324",
   "metadata": {},
   "outputs": [
    {
     "data": {
      "text/html": [
       "<div>\n",
       "<style scoped>\n",
       "    .dataframe tbody tr th:only-of-type {\n",
       "        vertical-align: middle;\n",
       "    }\n",
       "\n",
       "    .dataframe tbody tr th {\n",
       "        vertical-align: top;\n",
       "    }\n",
       "\n",
       "    .dataframe thead th {\n",
       "        text-align: right;\n",
       "    }\n",
       "</style>\n",
       "<table border=\"1\" class=\"dataframe\">\n",
       "  <thead>\n",
       "    <tr style=\"text-align: right;\">\n",
       "      <th></th>\n",
       "      <th>Unnamed: 0</th>\n",
       "      <th>uniprot_id</th>\n",
       "      <th>ogt</th>\n",
       "      <th>topt</th>\n",
       "      <th>sequence</th>\n",
       "    </tr>\n",
       "  </thead>\n",
       "  <tbody>\n",
       "    <tr>\n",
       "      <th>0</th>\n",
       "      <td>0</td>\n",
       "      <td>P43408</td>\n",
       "      <td>85</td>\n",
       "      <td>70.0</td>\n",
       "      <td>MKNKVVVVTGVPGVGGTTLTQKTIEKLKEEGIEYKMVNFGTVMFEV...</td>\n",
       "    </tr>\n",
       "    <tr>\n",
       "      <th>1</th>\n",
       "      <td>1</td>\n",
       "      <td>Q89GR3</td>\n",
       "      <td>26</td>\n",
       "      <td>30.0</td>\n",
       "      <td>MNLAIVEAPADSTPPPADPLDHLADALFHEMGSPGVYGRTALYEDV...</td>\n",
       "    </tr>\n",
       "    <tr>\n",
       "      <th>2</th>\n",
       "      <td>2</td>\n",
       "      <td>Q60352</td>\n",
       "      <td>80</td>\n",
       "      <td>37.0</td>\n",
       "      <td>MLTILKLGGSILSDKNVPYSIKWDNLERIAMEIKNALDYYKNQNKE...</td>\n",
       "    </tr>\n",
       "    <tr>\n",
       "      <th>3</th>\n",
       "      <td>3</td>\n",
       "      <td>Q97X08</td>\n",
       "      <td>74</td>\n",
       "      <td>80.0</td>\n",
       "      <td>MIMNKLYIIIVPIIVIIVVGVIGGAIYLHHQSPNVKTSSITVTTNE...</td>\n",
       "    </tr>\n",
       "    <tr>\n",
       "      <th>4</th>\n",
       "      <td>4</td>\n",
       "      <td>Q7B8C4</td>\n",
       "      <td>30</td>\n",
       "      <td>37.0</td>\n",
       "      <td>MTVKKLYFIPAGRCMLDHSSVNSTLTPGNLLNLPVWCYLLETEEGP...</td>\n",
       "    </tr>\n",
       "  </tbody>\n",
       "</table>\n",
       "</div>"
      ],
      "text/plain": [
       "   Unnamed: 0 uniprot_id  ogt  topt  \\\n",
       "0           0     P43408   85  70.0   \n",
       "1           1     Q89GR3   26  30.0   \n",
       "2           2     Q60352   80  37.0   \n",
       "3           3     Q97X08   74  80.0   \n",
       "4           4     Q7B8C4   30  37.0   \n",
       "\n",
       "                                            sequence  \n",
       "0  MKNKVVVVTGVPGVGGTTLTQKTIEKLKEEGIEYKMVNFGTVMFEV...  \n",
       "1  MNLAIVEAPADSTPPPADPLDHLADALFHEMGSPGVYGRTALYEDV...  \n",
       "2  MLTILKLGGSILSDKNVPYSIKWDNLERIAMEIKNALDYYKNQNKE...  \n",
       "3  MIMNKLYIIIVPIIVIIVVGVIGGAIYLHHQSPNVKTSSITVTTNE...  \n",
       "4  MTVKKLYFIPAGRCMLDHSSVNSTLTPGNLLNLPVWCYLLETEEGP...  "
      ]
     },
     "execution_count": 2,
     "metadata": {},
     "output_type": "execute_result"
    }
   ],
   "source": [
    "topt_data = pd.read_csv('../data/Topt/sequence_ogt_topt.csv') \n",
    "topt_data.head()"
   ]
  },
  {
   "cell_type": "code",
   "execution_count": 86,
   "id": "3084d8ea",
   "metadata": {},
   "outputs": [],
   "source": [
    "def get_protinfo(uniprot_id):\n",
    "    url = f\"https://rest.uniprot.org/uniprotkb/{uniprot_id}.json\"\n",
    "    response = requests.get(url)\n",
    "    data = response.json()\n",
    "    if 'organism' in data.keys():\n",
    "        organism = data['organism']['scientificName'].split('(')[0].strip()\n",
    "    else:\n",
    "        organism = 'unknown'\n",
    "        \n",
    "    if 'proteinDescription' in data.keys():\n",
    "        description = data['proteinDescription']\n",
    "        if 'recommendedName' in description.keys():\n",
    "            recName_data = data['proteinDescription']['recommendedName']\n",
    "            if 'ecNumbers' in recName_data.keys():\n",
    "                ec = recName_data['ecNumbers'][0]['value'].strip()\n",
    "            elif 'alternativeNames' in description.keys():\n",
    "                altName_data = data['proteinDescription']['alternativeNames']\n",
    "                if 'ecNumbers' in altName_data[0].keys():\n",
    "                    ec = altName_data[0]['ecNumbers'][0]['value'].strip()\n",
    "                else:\n",
    "                    ec='unknown'\n",
    "            else:\n",
    "                ec='unknown'\n",
    "        elif 'submissionNames' in description.keys():\n",
    "            if 'ecNumbers' in data['proteinDescription']['submissionNames'][0].keys():\n",
    "                ec = data['proteinDescription']['submissionNames'][0]['ecNumbers'][0]['value'].strip()\n",
    "            else:\n",
    "                ec='unknown'\n",
    "    else:\n",
    "        ec='unknown'\n",
    "        \n",
    "    return {'uniprot_id':uniprot_id, 'ec':ec,'organism':organism}"
   ]
  },
  {
   "cell_type": "code",
   "execution_count": 87,
   "id": "343aa7da",
   "metadata": {},
   "outputs": [],
   "source": [
    "enz_info = []\n",
    "for prot_id in list(topt_data['uniprot_id']):\n",
    "    enz_info.append( get_protinfo(prot_id) )"
   ]
  },
  {
   "cell_type": "code",
   "execution_count": 89,
   "id": "b9705df6",
   "metadata": {},
   "outputs": [
    {
     "data": {
      "text/html": [
       "<div>\n",
       "<style scoped>\n",
       "    .dataframe tbody tr th:only-of-type {\n",
       "        vertical-align: middle;\n",
       "    }\n",
       "\n",
       "    .dataframe tbody tr th {\n",
       "        vertical-align: top;\n",
       "    }\n",
       "\n",
       "    .dataframe thead th {\n",
       "        text-align: right;\n",
       "    }\n",
       "</style>\n",
       "<table border=\"1\" class=\"dataframe\">\n",
       "  <thead>\n",
       "    <tr style=\"text-align: right;\">\n",
       "      <th></th>\n",
       "      <th>uniprot_id</th>\n",
       "      <th>ec</th>\n",
       "      <th>organism</th>\n",
       "    </tr>\n",
       "  </thead>\n",
       "  <tbody>\n",
       "    <tr>\n",
       "      <th>0</th>\n",
       "      <td>P43408</td>\n",
       "      <td>2.7.4.3</td>\n",
       "      <td>Methanotorris igneus</td>\n",
       "    </tr>\n",
       "    <tr>\n",
       "      <th>1</th>\n",
       "      <td>Q89GR3</td>\n",
       "      <td>6.2.1.n2</td>\n",
       "      <td>Bradyrhizobium diazoefficiens</td>\n",
       "    </tr>\n",
       "    <tr>\n",
       "      <th>2</th>\n",
       "      <td>Q60352</td>\n",
       "      <td>2.7.4.26</td>\n",
       "      <td>Methanocaldococcus jannaschii</td>\n",
       "    </tr>\n",
       "    <tr>\n",
       "      <th>3</th>\n",
       "      <td>Q97X08</td>\n",
       "      <td>3.2.1.4</td>\n",
       "      <td>Saccharolobus solfataricus</td>\n",
       "    </tr>\n",
       "    <tr>\n",
       "      <th>4</th>\n",
       "      <td>Q7B8C4</td>\n",
       "      <td>3.1.1.81</td>\n",
       "      <td>Bacillus thuringiensis subsp. darmstadiensis</td>\n",
       "    </tr>\n",
       "  </tbody>\n",
       "</table>\n",
       "</div>"
      ],
      "text/plain": [
       "  uniprot_id        ec                                      organism\n",
       "0     P43408   2.7.4.3                          Methanotorris igneus\n",
       "1     Q89GR3  6.2.1.n2                 Bradyrhizobium diazoefficiens\n",
       "2     Q60352  2.7.4.26                 Methanocaldococcus jannaschii\n",
       "3     Q97X08   3.2.1.4                    Saccharolobus solfataricus\n",
       "4     Q7B8C4  3.1.1.81  Bacillus thuringiensis subsp. darmstadiensis"
      ]
     },
     "execution_count": 89,
     "metadata": {},
     "output_type": "execute_result"
    }
   ],
   "source": [
    "enz_info = []\n",
    "for prot_id in list(topt_data['uniprot_id']):\n",
    "    enz_info.append( get_protinfo(prot_id) )\n",
    "einfo_pd = pd.DataFrame(enz_info)\n",
    "einfo_pd.to_csv('../data/Topt/topt_enzinfo.csv',index=None)\n",
    "einfo_pd.head()"
   ]
  },
  {
   "cell_type": "markdown",
   "id": "69ec98ef",
   "metadata": {},
   "source": [
    "## prep input for preoptem"
   ]
  },
  {
   "cell_type": "code",
   "execution_count": 7,
   "id": "f342cb0e",
   "metadata": {},
   "outputs": [
    {
     "data": {
      "text/plain": [
       "291"
      ]
     },
     "execution_count": 7,
     "metadata": {},
     "output_type": "execute_result"
    }
   ],
   "source": [
    "test=pd.read_csv('../data/Topt/test.csv');\n",
    "records = []\n",
    "for i in range(len(test.index)):\n",
    "    records.append( SeqRecord( Seq(list(test['sequence'])[i]), \n",
    "                              id =list(test['uniprot_id'])[i], description='' ) )\n",
    "SeqIO.write(records,'../data/test_preoptem.fasta',\"fasta\")"
   ]
  },
  {
   "cell_type": "markdown",
   "id": "9bd93679",
   "metadata": {},
   "source": [
    "# pHopt"
   ]
  },
  {
   "cell_type": "code",
   "execution_count": 3,
   "id": "9430a3dc",
   "metadata": {},
   "outputs": [],
   "source": [
    "# train_records = SeqIO.parse( '../data/pHopt/phopt_training.fasta' , \"fasta\")\n",
    "# val_records = SeqIO.parse( '../data/pHopt/phopt_validation.fasta' , \"fasta\")\n",
    "# test_records = SeqIO.parse( '../data/pHopt/phopt_testing.fasta' , \"fasta\")\n",
    "# def records_to_table(records):\n",
    "#     data = []\n",
    "#     for record in records:\n",
    "#         temp = {'uniprot_id':str(record.id).strip(),'sequence':str(record.seq)}\n",
    "#         temp['pHopt'] = float( record.description.split('|')[3] )\n",
    "#         temp['EC'] = record.description.split('|')[2].strip()\n",
    "#         temp['Organism'] = record.description.split('|')[1].strip()\n",
    "#         data.append(temp)\n",
    "#     table = pd.DataFrame(data)\n",
    "#     return table"
   ]
  },
  {
   "cell_type": "code",
   "execution_count": 4,
   "id": "954f17cd",
   "metadata": {},
   "outputs": [],
   "source": [
    "# train_set = records_to_table(train_records)\n",
    "# val_set = records_to_table(val_records)\n",
    "# test_set = records_to_table(test_records)\n",
    "# train_data = pd.concat([train_set, val_set])"
   ]
  },
  {
   "cell_type": "code",
   "execution_count": 36,
   "id": "ab81a432",
   "metadata": {},
   "outputs": [],
   "source": [
    "# train_data.to_csv('../data/pHopt/train_pH.csv',index=None)\n",
    "# test_set.to_csv('../data/pHopt/test_pH.csv',index=None)"
   ]
  },
  {
   "cell_type": "markdown",
   "id": "892f2a00",
   "metadata": {},
   "source": [
    "# Tm from Meltome atlas"
   ]
  },
  {
   "cell_type": "code",
   "execution_count": 13,
   "id": "62ff9051",
   "metadata": {},
   "outputs": [],
   "source": [
    "filenames = os.listdir('../../meltome_data/')\n",
    "Tm_data = pd.DataFrame(columns=['Protein ID', 'simple_fasta', 'Species', 'Tm'])\n",
    "for file in filenames:\n",
    "    temp = pd.read_csv('../../meltome_data/'+file)\n",
    "    temp = temp[['Protein ID', 'simple_fasta', 'Species', 'Tm']]\n",
    "    Tm_data = pd.concat([Tm_data,temp])\n",
    "Tm_data = Tm_data.dropna()\n",
    "Tm_data = Tm_data.rename(columns={'simple_fasta': 'sequence','Tm':'tm'})\n",
    "Tm_data = Tm_data.reset_index().drop(['index'],axis=1)\n",
    "# Tm_data.to_csv('../data/Tm/Tm_raw.csv',index=None)"
   ]
  },
  {
   "cell_type": "code",
   "execution_count": 38,
   "id": "956dbeed",
   "metadata": {},
   "outputs": [],
   "source": [
    "Tm_data = pd.read_csv('../data/Tm/Tm_raw.csv')\n",
    "train, test = split_table(Tm_data, ratio=0.1)\n",
    "# train.to_csv('../data/Tm/train_tm.csv',index=None)\n",
    "# test.to_csv('../data/Tm/test_tm.csv',index=None)"
   ]
  },
  {
   "cell_type": "code",
   "execution_count": 41,
   "id": "33ca0ebd",
   "metadata": {},
   "outputs": [],
   "source": [
    "# Oversampling for Tm >= 60 C\n",
    "train_os = train.copy()\n",
    "high_tm = (train[train['tm']>=60]).reset_index().drop(['index'],axis=1)\n",
    "over_high = []\n",
    "for i in range( len(high_tm.index) ):\n",
    "    rand_idx = np.random.randint( len( high_tm.index ) - 1,size=1)[0]\n",
    "    temp_data = dict( high_tm.iloc[rand_idx] )\n",
    "    over_high.append( temp_data )\n",
    "over_pd = pd.DataFrame(over_high)\n",
    "train_os = ( pd.concat([ train_os, over_pd]) ).reset_index().drop(['index'],axis=1)\n",
    "# train_os.to_csv('../data/Tm/train_os_tm.csv',index=None)"
   ]
  },
  {
   "cell_type": "markdown",
   "id": "ca930e93",
   "metadata": {},
   "source": [
    "# Vis datasets for Tm and Topt"
   ]
  },
  {
   "cell_type": "code",
   "execution_count": 47,
   "id": "12ac955f",
   "metadata": {},
   "outputs": [],
   "source": [
    "train_topt = pd.read_csv('../data/Topt/train.csv')\n",
    "train_os_topt = pd.read_csv('../data/Topt/train_os.csv')\n",
    "test_topt = pd.read_csv('../data/Topt/test.csv')\n",
    "\n",
    "train_tm = pd.read_csv('../data/Tm/train_tm.csv')\n",
    "train_os_tm = pd.read_csv('../data/Tm/train_os_tm.csv')\n",
    "test_tm = pd.read_csv('../data/Tm/test_tm.csv')"
   ]
  },
  {
   "cell_type": "code",
   "execution_count": 51,
   "id": "3bae8cde",
   "metadata": {},
   "outputs": [
    {
     "data": {
      "image/png": "[encoded data removed]",
      "text/plain": [
       "<Figure size 720x720 with 4 Axes>"
      ]
     },
     "metadata": {
      "needs_background": "light"
     },
     "output_type": "display_data"
    }
   ],
   "source": [
    "fig, axs = plt.subplots(2,2, figsize=(10,10))\n",
    "axs[0][0].hist(train_topt['topt'],alpha=1,label='Original');\n",
    "axs[0][0].hist(train_os_topt['topt'],alpha=0.7, histtype='barstacked',rwidth=0.7, label='Oversampled')\n",
    "axs[0][0].set_title('Train set of Topt')\n",
    "axs[0][1].hist(test_topt['topt'], bins=10, color='tab:purple', label='Test set');\n",
    "axs[0][1].set_title('Test set of Topt')\n",
    "axs[0][0].set_xlabel('Topt(\\u2103)')\n",
    "\n",
    "axs[1][0].hist(train_tm['tm'],alpha=1,label='Original');\n",
    "axs[1][0].hist(train_os_tm['tm'],alpha=0.7, histtype='barstacked',rwidth=0.7, label='Oversampled')\n",
    "axs[1][0].set_title('Train set of Tm')\n",
    "axs[1][1].hist(test_tm['tm'], bins=10, color='tab:purple', label='Test set');\n",
    "axs[1][1].set_title('Test set of Tm')\n",
    "axs[1][0].set_xlabel('Tm(\\u2103)')\n",
    "\n",
    "for i in range(2):\n",
    "    for j in range(2):\n",
    "        axs[i][j].legend()"
   ]
  },
  {
   "cell_type": "markdown",
   "id": "395e3a53",
   "metadata": {},
   "source": [
    "# Case study: beta-agarase"
   ]
  },
  {
   "cell_type": "code",
   "execution_count": 4,
   "id": "aaa34e9a",
   "metadata": {},
   "outputs": [],
   "source": [
    "# betaA = pd.read_csv('../data/casestudy/beta_agarase.csv')\n",
    "# seqs = []\n",
    "# for pid in list(betaA['uniprot_id']):\n",
    "#     seq = get_seq(pid)\n",
    "#     seqs.append(seq)\n",
    "# betaA['sequence'] = seqs\n",
    "# betaA.to_csv('../data/casestudy/beta_agarase.csv',index=None)"
   ]
  },
  {
   "cell_type": "markdown",
   "id": "8f129308",
   "metadata": {},
   "source": [
    "# Default hyperparameters"
   ]
  },
  {
   "cell_type": "code",
   "execution_count": 3,
   "id": "9684006a",
   "metadata": {},
   "outputs": [],
   "source": [
    "# default_dict = { 'dim':320,'window':5,'dropout':0.1,'n_head':4,'n_RD':3 }\n",
    "# dump_pickle( default_dict, '../data/performances/default.pkl')"
   ]
  },
  {
   "cell_type": "code",
   "execution_count": 2,
   "id": "6986a76d",
   "metadata": {},
   "outputs": [],
   "source": [
    "# win_sizes = [3,5,7]; dropouts = [0.1,0.2,0.5]; ind = 1;\n",
    "# for win_size in win_sizes:\n",
    "#     for dp in dropouts:\n",
    "#         temp_dict = { 'window': win_size,'dropout':dp,'n_head':4,'n_RD': 3 }\n",
    "#         dump_pickle( temp_dict, '../data/hyparams/params_'+str(ind)+'.pkl')\n",
    "#         ind +=1"
   ]
  },
  {
   "cell_type": "code",
   "execution_count": null,
   "id": "70a3f4b1",
   "metadata": {},
   "outputs": [],
   "source": []
  }
 ],
 "metadata": {
  "kernelspec": {
   "display_name": "Python 3 (ipykernel)",
   "language": "python",
   "name": "python3"
  },
  "language_info": {
   "codemirror_mode": {
    "name": "ipython",
    "version": 3
   },
   "file_extension": ".py",
   "mimetype": "text/x-python",
   "name": "python",
   "nbconvert_exporter": "python",
   "pygments_lexer": "ipython3",
   "version": "3.8.10"
  }
 },
 "nbformat": 4,
 "nbformat_minor": 5
}
