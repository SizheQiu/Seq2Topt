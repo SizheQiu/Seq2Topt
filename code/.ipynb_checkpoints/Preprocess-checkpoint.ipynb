{
 "cells": [
  {
   "cell_type": "code",
   "execution_count": 21,
   "id": "ad1a0e73",
   "metadata": {},
   "outputs": [],
   "source": [
    "import requests\n",
    "import numpy as np\n",
    "import pandas as pd\n",
    "from matplotlib import pyplot as plt\n",
    "import seaborn as sns\n",
    "from urllib import request\n",
    "from brendapyrser import BRENDA\n",
    "import html\n",
    "import pickle\n",
    "from math import exp\n",
    "import random\n",
    "import re\n",
    "from functions import *"
   ]
  },
  {
   "cell_type": "code",
   "execution_count": 22,
   "id": "c3ab2457",
   "metadata": {},
   "outputs": [],
   "source": [
    "raw_data = pd.read_csv('../data/sequence_ogt_topt.csv') # obtained from TOMER (https://doi.org/10.1021/acs.jcim.0c00489)\n",
    "ot_data = raw_data[ ['topt','sequence'] ]"
   ]
  },
  {
   "cell_type": "code",
   "execution_count": null,
   "id": "473ac7e8",
   "metadata": {},
   "outputs": [],
   "source": [
    "def split_table( table, ratio ):\n",
    "    idx=list(table.index)\n",
    "    np.random.shuffle(idx)\n",
    "    num_split = int( len(idx) * ratio)\n",
    "    idx_test, idx_train = idx[:num_split], idx[num_split:]\n",
    "    train_table = (table.iloc[idx_train]).reset_index().drop(['index'],axis=1)\n",
    "    test_table = (table.iloc[idx_test]).reset_index().drop(['index'],axis=1)\n",
    "    return train_table,test_table"
   ]
  },
  {
   "cell_type": "code",
   "execution_count": null,
   "id": "538324ab",
   "metadata": {},
   "outputs": [],
   "source": [
    "# train, test = split_table(ot_data, ratio=0.1)"
   ]
  },
  {
   "cell_type": "code",
   "execution_count": null,
   "id": "1728c79a",
   "metadata": {},
   "outputs": [],
   "source": [
    "# train.to_csv('../data/train.csv',index=None)\n",
    "# test.to_csv('../data/test.csv',index=None)"
   ]
  },
  {
   "cell_type": "code",
   "execution_count": 3,
   "id": "e1e8a0b6",
   "metadata": {},
   "outputs": [],
   "source": [
    "train = pd.read_csv('../data/train.csv'); test=pd.read_csv('../data/test.csv');"
   ]
  },
  {
   "cell_type": "code",
   "execution_count": 4,
   "id": "b1a08367",
   "metadata": {},
   "outputs": [],
   "source": [
    "# Oversampling for T > 80 C\n",
    "train_os = train.copy()\n",
    "high_ot = (train[train['topt']>80]).reset_index().drop(['index'],axis=1)\n",
    "over_high = []\n",
    "for i in range( 2*len(high_ot.index) ):\n",
    "    rand_idx = np.random.randint( len( high_ot.index ) - 1,size=1)[0]\n",
    "    temp_data = dict( high_ot.iloc[rand_idx] )\n",
    "    over_high.append( temp_data )\n",
    "over_pd = pd.DataFrame(over_high)\n",
    "train_os = ( pd.concat([ train_os, over_pd]) ).reset_index().drop(['index'],axis=1)\n",
    "# train_os.to_csv('../data/train_os.csv',index=None)"
   ]
  },
  {
   "cell_type": "code",
   "execution_count": 7,
   "id": "de721a46",
   "metadata": {},
   "outputs": [],
   "source": [
    "train_os = pd.read_csv('../data/train_os.csv')"
   ]
  },
  {
   "cell_type": "code",
   "execution_count": 6,
   "id": "eff496b8",
   "metadata": {},
   "outputs": [
    {
     "data": {
      "image/png": "[encoded data removed]",
      "text/plain": [
       "<Figure size 720x288 with 2 Axes>"
      ]
     },
     "metadata": {
      "needs_background": "light"
     },
     "output_type": "display_data"
    }
   ],
   "source": [
    "fig, axs = plt.subplots(1,2, figsize=(10,4))\n",
    "axs[0].hist([train['topt'],train_os['topt'] ],histtype='bar',label=['Original', 'Oversampled']);\n",
    "axs[0].set_title('Train set')\n",
    "axs[1].hist(test['topt'], bins=20, label='Test');\n",
    "axs[1].set_title('Test set')\n",
    "for ax in axs:\n",
    "    ax.set_xlabel('Temperature(\\u2103)')\n",
    "    ax.set_ylabel('Count')\n",
    "    ax.legend()"
   ]
  },
  {
   "cell_type": "markdown",
   "id": "9d5c6898",
   "metadata": {},
   "source": [
    "# Generate 3-mer dict"
   ]
  },
  {
   "cell_type": "code",
   "execution_count": 15,
   "id": "529a046b",
   "metadata": {},
   "outputs": [],
   "source": [
    "train_os = pd.read_csv('../data/train_os.csv'); test=pd.read_csv('../data/test.csv');\n",
    "all_seqs = list( set( list( train_os['sequence'] ) + list( test['sequence'] ) ) )\n",
    "letters = list( set(''.join(all_seqs)) )\n",
    "word_dict = {}\n",
    "def check_word(kmer, w_dict):\n",
    "    if kmer in w_dict:\n",
    "        return None\n",
    "    elif len(w_dict.keys()) == 0:\n",
    "        w_dict[kmer] = 0\n",
    "    else:\n",
    "        w_dict[kmer] = max(list(w_dict.values())) + 1\n",
    "    return None\n",
    "        \n",
    "for x in letters:\n",
    "    for y in letters:\n",
    "        kmer_0='>'+x+y; kmer_1=x+y+'<';\n",
    "        check_word(kmer_0, word_dict)\n",
    "        check_word(kmer_1, word_dict)\n",
    "for x in letters:\n",
    "    for y in letters:\n",
    "        for z in letters:\n",
    "            check_word( x+y+z, word_dict) "
   ]
  },
  {
   "cell_type": "code",
   "execution_count": 18,
   "id": "7878856f",
   "metadata": {},
   "outputs": [],
   "source": [
    "# dump_pickle(word_dict, '../data/word_dict.pkl')"
   ]
  }
 ],
 "metadata": {
  "kernelspec": {
   "display_name": "Python 3 (ipykernel)",
   "language": "python",
   "name": "python3"
  },
  "language_info": {
   "codemirror_mode": {
    "name": "ipython",
    "version": 3
   },
   "file_extension": ".py",
   "mimetype": "text/x-python",
   "name": "python",
   "nbconvert_exporter": "python",
   "pygments_lexer": "ipython3",
   "version": "3.8.10"
  }
 },
 "nbformat": 4,
 "nbformat_minor": 5
}
