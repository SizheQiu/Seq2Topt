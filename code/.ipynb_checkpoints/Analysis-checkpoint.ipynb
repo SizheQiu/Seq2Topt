{
 "cells": [
  {
   "cell_type": "code",
   "execution_count": 1,
   "id": "627ae5be",
   "metadata": {},
   "outputs": [],
   "source": [
    "import numpy as np\n",
    "import pandas as pd\n",
    "from matplotlib import pyplot as plt"
   ]
  },
  {
   "cell_type": "code",
   "execution_count": 2,
   "id": "eebebb47",
   "metadata": {},
   "outputs": [],
   "source": [
    "result = pd.read_csv('../data/performances/default_lr=0.001_batch=32_lr_decay=0.5_decay_interval=10.csv')"
   ]
  },
  {
   "cell_type": "code",
   "execution_count": 3,
   "id": "8b38090f",
   "metadata": {},
   "outputs": [
    {
     "data": {
      "text/html": [
       "<div>\n",
       "<style scoped>\n",
       "    .dataframe tbody tr th:only-of-type {\n",
       "        vertical-align: middle;\n",
       "    }\n",
       "\n",
       "    .dataframe tbody tr th {\n",
       "        vertical-align: top;\n",
       "    }\n",
       "\n",
       "    .dataframe thead th {\n",
       "        text-align: right;\n",
       "    }\n",
       "</style>\n",
       "<table border=\"1\" class=\"dataframe\">\n",
       "  <thead>\n",
       "    <tr style=\"text-align: right;\">\n",
       "      <th></th>\n",
       "      <th>rmse_train</th>\n",
       "      <th>r2_train</th>\n",
       "      <th>mae_train</th>\n",
       "      <th>rmse_test</th>\n",
       "      <th>r2_test</th>\n",
       "      <th>mae_test</th>\n",
       "      <th>rmse_dev</th>\n",
       "      <th>r2_dev</th>\n",
       "      <th>mae_dev</th>\n",
       "      <th>Epoch</th>\n",
       "    </tr>\n",
       "  </thead>\n",
       "  <tbody>\n",
       "    <tr>\n",
       "      <th>0</th>\n",
       "      <td>0.203496</td>\n",
       "      <td>-0.221666</td>\n",
       "      <td>0.164854</td>\n",
       "      <td>0.165027</td>\n",
       "      <td>-0.310896</td>\n",
       "      <td>0.143953</td>\n",
       "      <td>0.180225</td>\n",
       "      <td>0.105323</td>\n",
       "      <td>0.155869</td>\n",
       "      <td>1</td>\n",
       "    </tr>\n",
       "    <tr>\n",
       "      <th>1</th>\n",
       "      <td>0.158984</td>\n",
       "      <td>0.254326</td>\n",
       "      <td>0.128817</td>\n",
       "      <td>0.141601</td>\n",
       "      <td>0.034862</td>\n",
       "      <td>0.112371</td>\n",
       "      <td>0.143556</td>\n",
       "      <td>0.432353</td>\n",
       "      <td>0.114288</td>\n",
       "      <td>2</td>\n",
       "    </tr>\n",
       "    <tr>\n",
       "      <th>2</th>\n",
       "      <td>0.108534</td>\n",
       "      <td>0.652487</td>\n",
       "      <td>0.085033</td>\n",
       "      <td>0.147437</td>\n",
       "      <td>-0.046332</td>\n",
       "      <td>0.111704</td>\n",
       "      <td>0.116598</td>\n",
       "      <td>0.625526</td>\n",
       "      <td>0.090520</td>\n",
       "      <td>3</td>\n",
       "    </tr>\n",
       "    <tr>\n",
       "      <th>3</th>\n",
       "      <td>0.059368</td>\n",
       "      <td>0.896021</td>\n",
       "      <td>0.044955</td>\n",
       "      <td>0.148334</td>\n",
       "      <td>-0.059102</td>\n",
       "      <td>0.112574</td>\n",
       "      <td>0.116071</td>\n",
       "      <td>0.628906</td>\n",
       "      <td>0.087091</td>\n",
       "      <td>4</td>\n",
       "    </tr>\n",
       "    <tr>\n",
       "      <th>4</th>\n",
       "      <td>0.040871</td>\n",
       "      <td>0.950719</td>\n",
       "      <td>0.030032</td>\n",
       "      <td>0.148164</td>\n",
       "      <td>-0.056682</td>\n",
       "      <td>0.114660</td>\n",
       "      <td>0.114793</td>\n",
       "      <td>0.637031</td>\n",
       "      <td>0.084575</td>\n",
       "      <td>5</td>\n",
       "    </tr>\n",
       "  </tbody>\n",
       "</table>\n",
       "</div>"
      ],
      "text/plain": [
       "   rmse_train  r2_train  mae_train  rmse_test   r2_test  mae_test  rmse_dev  \\\n",
       "0    0.203496 -0.221666   0.164854   0.165027 -0.310896  0.143953  0.180225   \n",
       "1    0.158984  0.254326   0.128817   0.141601  0.034862  0.112371  0.143556   \n",
       "2    0.108534  0.652487   0.085033   0.147437 -0.046332  0.111704  0.116598   \n",
       "3    0.059368  0.896021   0.044955   0.148334 -0.059102  0.112574  0.116071   \n",
       "4    0.040871  0.950719   0.030032   0.148164 -0.056682  0.114660  0.114793   \n",
       "\n",
       "     r2_dev   mae_dev  Epoch  \n",
       "0  0.105323  0.155869      1  \n",
       "1  0.432353  0.114288      2  \n",
       "2  0.625526  0.090520      3  \n",
       "3  0.628906  0.087091      4  \n",
       "4  0.637031  0.084575      5  "
      ]
     },
     "execution_count": 3,
     "metadata": {},
     "output_type": "execute_result"
    }
   ],
   "source": [
    "result.head()"
   ]
  },
  {
   "cell_type": "code",
   "execution_count": 14,
   "id": "08f89bfb",
   "metadata": {},
   "outputs": [
    {
     "data": {
      "image/png": "[encoded data removed]",
      "text/plain": [
       "<Figure size 864x360 with 2 Axes>"
      ]
     },
     "metadata": {
      "needs_background": "light"
     },
     "output_type": "display_data"
    }
   ],
   "source": [
    "T_max = 120\n",
    "fig, axs = plt.subplots(1,2,figsize=(12,5))\n",
    "axs[0].plot(result['Epoch'], result['rmse_test']*T_max, marker='^',label='Test')\n",
    "axs[0].plot(result['Epoch'], result['rmse_dev']*T_max,marker='^', label='Dev')\n",
    "axs[0].set_ylabel('RMSE')\n",
    "axs[1].plot(result['Epoch'], result['mae_test']*T_max, marker='^', label='Test')\n",
    "axs[1].plot(result['Epoch'], result['mae_dev']*T_max, marker='^', label='Dev')\n",
    "axs[1].set_ylabel('MAE')\n",
    "for ax in axs:\n",
    "    ax.set_xlabel('Epoch')\n",
    "    ax.legend()\n",
    "    ax.grid()"
   ]
  },
  {
   "cell_type": "code",
   "execution_count": null,
   "id": "de5953b7",
   "metadata": {},
   "outputs": [],
   "source": []
  }
 ],
 "metadata": {
  "kernelspec": {
   "display_name": "Python 3 (ipykernel)",
   "language": "python",
   "name": "python3"
  },
  "language_info": {
   "codemirror_mode": {
    "name": "ipython",
    "version": 3
   },
   "file_extension": ".py",
   "mimetype": "text/x-python",
   "name": "python",
   "nbconvert_exporter": "python",
   "pygments_lexer": "ipython3",
   "version": "3.8.10"
  }
 },
 "nbformat": 4,
 "nbformat_minor": 5
}
