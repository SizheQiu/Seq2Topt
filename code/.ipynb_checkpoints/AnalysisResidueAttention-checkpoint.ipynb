{
 "cells": [
  {
   "cell_type": "code",
   "execution_count": 1,
   "id": "298b8ea6",
   "metadata": {},
   "outputs": [],
   "source": [
    "import numpy as np\n",
    "import pandas as pd\n",
    "from matplotlib import pyplot as plt\n",
    "from functions import *\n",
    "from scipy.stats import gaussian_kde\n",
    "from matplotlib_venn import venn2, venn3\n",
    "import seaborn as sns\n",
    "from scipy import stats"
   ]
  },
  {
   "cell_type": "code",
   "execution_count": 5,
   "id": "0436fca2",
   "metadata": {},
   "outputs": [],
   "source": [
    "import torch\n",
    "import torch.optim as optim\n",
    "from torch import nn\n",
    "import torch.nn.functional as F\n",
    "import esm"
   ]
  },
  {
   "cell_type": "code",
   "execution_count": 7,
   "id": "65bf4d9c",
   "metadata": {},
   "outputs": [],
   "source": [
    "#Load esm2\n",
    "device = torch.device('cpu')\n",
    "esm2_model, alphabet = esm.pretrained.esm2_t6_8M_UR50D() # 6 layers\n",
    "esm2_model = esm2_model.to(device)\n",
    "esm2_batch_converter = alphabet.get_batch_converter()"
   ]
  },
  {
   "cell_type": "code",
   "execution_count": 9,
   "id": "74128287",
   "metadata": {},
   "outputs": [],
   "source": [
    "test_data = pd.read_csv('../data/Topt/test.csv')\n",
    "ids = list(test_data.index)[:5]; seqs = list(test_data['sequence'])[:5]"
   ]
  },
  {
   "cell_type": "code",
   "execution_count": 10,
   "id": "8c2e0a21",
   "metadata": {},
   "outputs": [],
   "source": [
    "inputs = [(ids[i], seqs[i]) for i in range(len(ids))]\n",
    "batch_labels, batch_strs, batch_tokens = esm2_batch_converter(inputs)\n",
    "batch_tokens = batch_tokens.to(device=device, non_blocking=True)\n",
    "with torch.no_grad():\n",
    "    emb = esm2_model(batch_tokens, repr_layers=[6], return_contacts=False)\n",
    "emb = emb[\"representations\"][6]\n",
    "emb = emb.transpose(1,2)\n",
    "emb = emb.to(device)"
   ]
  },
  {
   "cell_type": "code",
   "execution_count": 15,
   "id": "fce1e2d5",
   "metadata": {},
   "outputs": [],
   "source": [
    "x_cnn = nn.Conv1d(320, 320, kernel_size=2*5+1, padding=5) "
   ]
  },
  {
   "cell_type": "code",
   "execution_count": null,
   "id": "341d3bba",
   "metadata": {},
   "outputs": [],
   "source": []
  }
 ],
 "metadata": {
  "kernelspec": {
   "display_name": "Python 3 (ipykernel)",
   "language": "python",
   "name": "python3"
  },
  "language_info": {
   "codemirror_mode": {
    "name": "ipython",
    "version": 3
   },
   "file_extension": ".py",
   "mimetype": "text/x-python",
   "name": "python",
   "nbconvert_exporter": "python",
   "pygments_lexer": "ipython3",
   "version": "3.8.10"
  }
 },
 "nbformat": 4,
 "nbformat_minor": 5
}
