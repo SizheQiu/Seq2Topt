{
 "cells": [
  {
   "cell_type": "code",
   "execution_count": 5,
   "id": "ad1a0e73",
   "metadata": {},
   "outputs": [],
   "source": [
    "import numpy as np\n",
    "import pandas as pd\n",
    "from matplotlib import pyplot as plt\n",
    "import seaborn as sns\n",
    "import pickle\n",
    "from math import exp\n",
    "import random\n",
    "import re\n",
    "from Bio import SeqIO\n",
    "from Bio.Seq import Seq\n",
    "from Bio.SeqRecord import SeqRecord\n",
    "from functions import *"
   ]
  },
  {
   "cell_type": "markdown",
   "id": "d9bb5c33",
   "metadata": {},
   "source": [
    "# Topt: dataset split"
   ]
  },
  {
   "cell_type": "code",
   "execution_count": 2,
   "id": "c3ab2457",
   "metadata": {},
   "outputs": [],
   "source": [
    "topt_data = pd.read_csv('../data/Topt/sequence_ogt_topt.csv') # obtained from TOMER (https://doi.org/10.1021/acs.jcim.0c00489)\n",
    "topt_data = topt_data[['uniprot_id','topt','sequence']]"
   ]
  },
  {
   "cell_type": "code",
   "execution_count": 3,
   "id": "473ac7e8",
   "metadata": {},
   "outputs": [],
   "source": [
    "def split_table( table, ratio ):\n",
    "    idx=list(table.index)\n",
    "    np.random.shuffle(idx)\n",
    "    num_split = int( len(idx) * ratio)\n",
    "    idx_test, idx_train = idx[:num_split], idx[num_split:]\n",
    "    train_table = (table.iloc[idx_train]).reset_index().drop(['index'],axis=1)\n",
    "    test_table = (table.iloc[idx_test]).reset_index().drop(['index'],axis=1)\n",
    "    return train_table,test_table"
   ]
  },
  {
   "cell_type": "code",
   "execution_count": 7,
   "id": "538324ab",
   "metadata": {},
   "outputs": [],
   "source": [
    "train, test = split_table(topt_data, ratio=0.1)"
   ]
  },
  {
   "cell_type": "code",
   "execution_count": 8,
   "id": "1728c79a",
   "metadata": {},
   "outputs": [],
   "source": [
    "# train.to_csv('../data/train.csv',index=None)\n",
    "# test.to_csv('../data/test.csv',index=None)"
   ]
  },
  {
   "cell_type": "code",
   "execution_count": 10,
   "id": "55a92b87",
   "metadata": {},
   "outputs": [],
   "source": [
    "# fig, axs = plt.subplots(1,2, figsize=(10,4))\n",
    "# axs[0].hist(train['topt'])\n",
    "# axs[1].hist(test['topt'])"
   ]
  },
  {
   "cell_type": "code",
   "execution_count": 11,
   "id": "e1e8a0b6",
   "metadata": {},
   "outputs": [],
   "source": [
    "train = pd.read_csv('../data/Topt/train.csv'); test=pd.read_csv('../data/Topt/test.csv');"
   ]
  },
  {
   "cell_type": "code",
   "execution_count": 12,
   "id": "b1a08367",
   "metadata": {},
   "outputs": [],
   "source": [
    "# Oversampling for T >= 80 C\n",
    "# train_os = train.copy()\n",
    "# high_ot = (train[train['topt']>=80]).reset_index().drop(['index'],axis=1)\n",
    "# over_high = []\n",
    "# for i in range( len(high_ot.index) ):\n",
    "#     rand_idx = np.random.randint( len( high_ot.index ) - 1,size=1)[0]\n",
    "#     temp_data = dict( high_ot.iloc[rand_idx] )\n",
    "#     over_high.append( temp_data )\n",
    "# over_pd = pd.DataFrame(over_high)\n",
    "# train_os = ( pd.concat([ train_os, over_pd]) ).reset_index().drop(['index'],axis=1)\n",
    "# train_os.to_csv('../data/train_os.csv',index=None)"
   ]
  },
  {
   "cell_type": "code",
   "execution_count": 13,
   "id": "de721a46",
   "metadata": {},
   "outputs": [],
   "source": [
    "train_os = pd.read_csv('../data/Topt/train_os.csv')"
   ]
  },
  {
   "cell_type": "code",
   "execution_count": 21,
   "id": "eff496b8",
   "metadata": {},
   "outputs": [
    {
     "data": {
      "image/png": "[encoded data removed]",
      "text/plain": [
       "<Figure size 720x288 with 2 Axes>"
      ]
     },
     "metadata": {
      "needs_background": "light"
     },
     "output_type": "display_data"
    }
   ],
   "source": [
    "fig, axs = plt.subplots(1,2, figsize=(10,4))\n",
    "axs[0].hist(train['topt'],alpha=1,label='Original');\n",
    "axs[0].hist(train_os['topt'],alpha=0.7, histtype='barstacked',rwidth=0.7, label='Oversampled')\n",
    "axs[0].set_title('Train set')\n",
    "axs[1].hist(test['topt'], bins=10, color='tab:green', label='Test set');\n",
    "axs[1].set_title('Test set')\n",
    "for ax in axs:\n",
    "    ax.set_xlabel('Temperature(\\u2103)')\n",
    "    ax.set_ylabel('Count')\n",
    "    ax.legend()"
   ]
  },
  {
   "cell_type": "code",
   "execution_count": 22,
   "id": "d6dcd73f",
   "metadata": {},
   "outputs": [
    {
     "name": "stdout",
     "output_type": "stream",
     "text": [
      "2829\n",
      "291\n"
     ]
    }
   ],
   "source": [
    "print(len(train_os.index))\n",
    "print(len(test.index))"
   ]
  },
  {
   "cell_type": "markdown",
   "id": "69ec98ef",
   "metadata": {},
   "source": [
    "## prep input for preoptem"
   ]
  },
  {
   "cell_type": "code",
   "execution_count": 6,
   "id": "28e5551d",
   "metadata": {},
   "outputs": [
    {
     "data": {
      "text/html": [
       "<div>\n",
       "<style scoped>\n",
       "    .dataframe tbody tr th:only-of-type {\n",
       "        vertical-align: middle;\n",
       "    }\n",
       "\n",
       "    .dataframe tbody tr th {\n",
       "        vertical-align: top;\n",
       "    }\n",
       "\n",
       "    .dataframe thead th {\n",
       "        text-align: right;\n",
       "    }\n",
       "</style>\n",
       "<table border=\"1\" class=\"dataframe\">\n",
       "  <thead>\n",
       "    <tr style=\"text-align: right;\">\n",
       "      <th></th>\n",
       "      <th>uniprot_id</th>\n",
       "      <th>topt</th>\n",
       "      <th>sequence</th>\n",
       "    </tr>\n",
       "  </thead>\n",
       "  <tbody>\n",
       "    <tr>\n",
       "      <th>0</th>\n",
       "      <td>A5DNB9</td>\n",
       "      <td>30.0</td>\n",
       "      <td>MADNEPAMATKQHNAELLPPTRTTSEPPLYKRLGNMVIPPLQSSFS...</td>\n",
       "    </tr>\n",
       "    <tr>\n",
       "      <th>1</th>\n",
       "      <td>O66680</td>\n",
       "      <td>65.0</td>\n",
       "      <td>MMKEFNPREIEKKWQKRWEEAGVFKAQEGKPNKFYVLEMFPYPSGR...</td>\n",
       "    </tr>\n",
       "    <tr>\n",
       "      <th>2</th>\n",
       "      <td>O66932</td>\n",
       "      <td>100.0</td>\n",
       "      <td>MEEEKVKEGLWELAYNLWWTWNPPAKELFRSIDPLLWKETKENPIE...</td>\n",
       "    </tr>\n",
       "    <tr>\n",
       "      <th>3</th>\n",
       "      <td>Q54BM7</td>\n",
       "      <td>37.0</td>\n",
       "      <td>MITNSKMENKILDEFDEEELNKLKINSNNKESTTTTTSTTTTTTTT...</td>\n",
       "    </tr>\n",
       "    <tr>\n",
       "      <th>4</th>\n",
       "      <td>D3YBH2</td>\n",
       "      <td>36.5</td>\n",
       "      <td>MKMVPDGGEPTCEELDALRERLSSPELDQRHLFNGWPASAEEYTEE...</td>\n",
       "    </tr>\n",
       "  </tbody>\n",
       "</table>\n",
       "</div>"
      ],
      "text/plain": [
       "  uniprot_id   topt                                           sequence\n",
       "0     A5DNB9   30.0  MADNEPAMATKQHNAELLPPTRTTSEPPLYKRLGNMVIPPLQSSFS...\n",
       "1     O66680   65.0  MMKEFNPREIEKKWQKRWEEAGVFKAQEGKPNKFYVLEMFPYPSGR...\n",
       "2     O66932  100.0  MEEEKVKEGLWELAYNLWWTWNPPAKELFRSIDPLLWKETKENPIE...\n",
       "3     Q54BM7   37.0  MITNSKMENKILDEFDEEELNKLKINSNNKESTTTTTSTTTTTTTT...\n",
       "4     D3YBH2   36.5  MKMVPDGGEPTCEELDALRERLSSPELDQRHLFNGWPASAEEYTEE..."
      ]
     },
     "execution_count": 6,
     "metadata": {},
     "output_type": "execute_result"
    }
   ],
   "source": [
    "test=pd.read_csv('../data/Topt/test.csv');\n",
    "test.head()"
   ]
  },
  {
   "cell_type": "code",
   "execution_count": 7,
   "id": "f342cb0e",
   "metadata": {},
   "outputs": [
    {
     "data": {
      "text/plain": [
       "291"
      ]
     },
     "execution_count": 7,
     "metadata": {},
     "output_type": "execute_result"
    }
   ],
   "source": [
    "records = []\n",
    "for i in range(len(test.index)):\n",
    "    records.append( SeqRecord( Seq(list(test['sequence'])[i]), \n",
    "                              id =list(test['uniprot_id'])[i], description='' ) )\n",
    "SeqIO.write(records,'../data/test_preoptem.fasta',\"fasta\")"
   ]
  },
  {
   "cell_type": "markdown",
   "id": "9bd93679",
   "metadata": {},
   "source": [
    "# pHopt"
   ]
  },
  {
   "cell_type": "code",
   "execution_count": 29,
   "id": "9430a3dc",
   "metadata": {},
   "outputs": [],
   "source": [
    "train_records = SeqIO.parse( '../data/pHopt/phopt_training.fasta' , \"fasta\")\n",
    "val_records = SeqIO.parse( '../data/pHopt/phopt_validation.fasta' , \"fasta\")\n",
    "test_records = SeqIO.parse( '../data/pHopt/phopt_testing.fasta' , \"fasta\")\n",
    "def records_to_table(records):\n",
    "    data = []\n",
    "    for record in records:\n",
    "        temp = {'uniprot_id':str(record.id).strip(),'sequence':str(record.seq)}\n",
    "        temp['pHopt'] = float( record.description.split('|')[3] )\n",
    "        temp['EC'] = record.description.split('|')[2].strip()\n",
    "        temp['Organism'] = record.description.split('|')[1].strip()\n",
    "        data.append(temp)\n",
    "    table = pd.DataFrame(data)\n",
    "    return table"
   ]
  },
  {
   "cell_type": "code",
   "execution_count": 30,
   "id": "954f17cd",
   "metadata": {},
   "outputs": [],
   "source": [
    "train_set = records_to_table(train_records)\n",
    "val_set = records_to_table(val_records)\n",
    "test_set = records_to_table(test_records)\n",
    "train_data = pd.concat([train_set, val_set])"
   ]
  },
  {
   "cell_type": "code",
   "execution_count": 36,
   "id": "ab81a432",
   "metadata": {},
   "outputs": [],
   "source": [
    "# train_data.to_csv('../data/pHopt/train_pH.csv',index=None)\n",
    "# test_set.to_csv('../data/pHopt/test_pH.csv',index=None)"
   ]
  },
  {
   "cell_type": "markdown",
   "id": "8f129308",
   "metadata": {},
   "source": [
    "# Default hyperparameters"
   ]
  },
  {
   "cell_type": "code",
   "execution_count": 3,
   "id": "9684006a",
   "metadata": {},
   "outputs": [],
   "source": [
    "# default_dict = { 'dim':320,'window':5,'dropout':0.1,'n_head':4,'n_RD':3 }\n",
    "# dump_pickle( default_dict, '../data/performances/default.pkl')"
   ]
  },
  {
   "cell_type": "code",
   "execution_count": 37,
   "id": "6986a76d",
   "metadata": {},
   "outputs": [],
   "source": [
    "# win_sizes = [3,5,7]; nRDs = [2,3,4,5];\n",
    "# for win_size in win_sizes:\n",
    "#     for n_RD in nRDs:\n",
    "#         temp_dict = { 'window': win_size,'dropout':0.1,'n_head':4,'n_RD': n_RD }\n",
    "#         temp_name = 'w'+str(win_size)+'nRD'+str(n_RD)\n",
    "#         dump_pickle( temp_dict, '../data/hyparams/'+temp_name+'.pkl')"
   ]
  },
  {
   "cell_type": "code",
   "execution_count": null,
   "id": "70a3f4b1",
   "metadata": {},
   "outputs": [],
   "source": []
  }
 ],
 "metadata": {
  "kernelspec": {
   "display_name": "Python 3 (ipykernel)",
   "language": "python",
   "name": "python3"
  },
  "language_info": {
   "codemirror_mode": {
    "name": "ipython",
    "version": 3
   },
   "file_extension": ".py",
   "mimetype": "text/x-python",
   "name": "python",
   "nbconvert_exporter": "python",
   "pygments_lexer": "ipython3",
   "version": "3.8.10"
  }
 },
 "nbformat": 4,
 "nbformat_minor": 5
}
